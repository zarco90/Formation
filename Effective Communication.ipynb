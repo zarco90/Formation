{
 "cells": [
  {
   "cell_type": "markdown",
   "metadata": {},
   "source": [
    "# Effective Communication: Writing, Design, and Presentation\n",
    "\n",
    "## C01 - Effective Communication: Writing, Design, and Presentation\n",
    "\n",
    "### W01 - Building Great Business Writing\n",
    "\n",
    "#### The Basis of Good Writing\n",
    "\n",
    "We've looked at examples of bad writing and no surprise, you can tell the difference between bad writing and good writing. This is good news. You're already on your way to learning how to write. The question becomes, how do we create good writing?\n",
    "You need to understand the principles that really feed into the whole process. First, you need to understand the main quality of good business writing, what we're always working towards when we write. I call it the windowpane theory and it comes from a quote by George Orwell. He's famous for writing the classic books 1984 and Animal Farm. Orwell said, good writing is a windowpane. First of all, a windowpane is something that we can see through. A dirty window pane can't do its job. If its too dirty to see through, it looses its function. You have to work to see beyond it. Our writing should be transparent.\n",
    "\n",
    "Best writting practices:\n",
    "* Clarity above all - have I been as clear as possible? Cut extra words, add bullet points for your list to make them easier to read and start to really craft your reading so that it's clear.\n",
    "* Waste no time - Your readers are very busy. If you give your reader too much to read, you might be ignored or simply lost in the shuffle. You need to work intentionally, through design and revision, to create a short document for your reader.\n",
    "* Be the authority - Our goal with our tone isn't to sound smart, it's to be smart. When a writer writes to sound smart, they fail, because complexity detracts from your goal. We don't want our readers to have to do any extra work. Choosing sentence structure or fancy vocabulary so that you sound smart actually does just the opposite. Say what you mean, simply and directly. And be the authority when you write. Avoid wishy-washy words like should, maybe, could, might, or think, when you write.\n",
    "* Design your document. Good writers spend time on formatting and design. The very first thing that your reader sees, isn't the words on the page, it's how your document looks.\n",
    "* Scaffold well to write well.\n",
    "* There is no good writing without good revision\n",
    "* Write your purpose - You don't need to justify your purpose before you ever get there. You need to start with your purpose and then you can build your justifications later in your document (introduction trap). You have to be willing to cut the things that don't fit our scaffold and don't address your purpose. And you have to be willing to do it mercilessly. A good tool to use when you begin is to start with the words, the purpose of this memo. That forces you to stick to the point and jump right in. This is just a first draft. You can go back and revise your first sentence after you've gotten started.\n",
    "* Grammar matters - We want to control the reading experience so our audience understands exactly what we want them to. That's why grammar's important. It makes you look good and helps you get your ideas across with clarity. "
   ]
  },
  {
   "cell_type": "markdown",
   "metadata": {},
   "source": [
    "There are three sub-points to the idea that everyone needs an editor:\n",
    "* Feedback is essential to success, even if it hurts sometimes.\n",
    "* Everyone gets too close to what they're working on.\n",
    "* To be a professional of any sort means being willing to take the lumps from a mentor who is making you better at what you do. "
   ]
  },
  {
   "cell_type": "markdown",
   "metadata": {},
   "source": [
    "#### Looking your best\n",
    "The elements that make a memo successful are white space, short paragraphs and organizational tags that create the impression of an inviting, quick reading experience.\n",
    "\n",
    "There's also balance on the page. The entire page isn't filled with text, but it's located on the page in a way that's pleasing to the eye.\n",
    "\n",
    "Importantly, the paragraphs shall be short. Long paragraphs look like a lot of work.\n",
    "\n",
    "Finally, the use of bullet points and subheads suggest strong organization. It also makes a document seem skimable.\n",
    "You should use bullets and bold text strategically to guide your readers' experience. To control the way that they navigate through your documents. You want them to notice your most important ideas.\n",
    "You can also use bold face as a lead in to your paragraphs. If you have a series of clearly organized points for each of your paragraphs, you can add a bold face lead that tells your leader just what your paragraph is about."
   ]
  },
  {
   "cell_type": "markdown",
   "metadata": {},
   "source": [
    "#### Types\n",
    "\n",
    "When we're thinking about working with typography. The first thing is use type purposefully. Don't pick a typeface because you think it's cute, or because it happens to be the typeface that everybody's using right now. Pick a type face because it matches your message. Also, remember your reader. First and foremost, when we're designing a reader comes first. We have to make sure all this type we're putting on a page, is understandable. And, think about the form of type. You could actually have fun with it and have it still be readable as well."
   ]
  },
  {
   "cell_type": "markdown",
   "metadata": {},
   "source": [
    "#### Elements of a well organized document\n",
    "\n",
    "Business writing follows a formula and you can apply it to every document. Basic idea of the structure:\n",
    "* Say what you are going to say. Always begin with the purpose of your document. Get to your purpose immediately. Then, provide one or two sentences summarizing your primary argument.\n",
    "* Say it. The body of the document. Ellaborate the ideas you summarize in the introduction of the document. Follow the points of your introductory summary in order. The first point is always the most important.\n",
    "* Say what you have just said. The conclusion is a re-statement of your firsts paragraph, but with a different language. There's nothing new in the conclusions.\n",
    "\n",
    "Now, scaffold the paragraphs:\n",
    "* One idea per paragraph.\n",
    "* Every paragraph begins with a strong topic sentence. If there is something in the paragraph that is not related to the topic sentence, cut it from the memo or put it somewhere else."
   ]
  },
  {
   "cell_type": "markdown",
   "metadata": {},
   "source": [
    "#### The body paragraphs\n",
    "\n",
    "Get started really outlining the argument. You need to know where you're going and you have to carefully order the points that you want to make. Make sure that every topic on my outline supports my purpose. Make sure that you don't repeat any ideas in more than one place.\n",
    "\n",
    "By grouping similar ideas in the same paragraphs, you can narrow down your supporting paragraphs and your argument's main points to key pieces.\n",
    "\n",
    "Now you need to decide what point is most important to you. And then you need to stick with it."
   ]
  },
  {
   "cell_type": "markdown",
   "metadata": {},
   "source": [
    "#### Building out the scaffold\n",
    "Now it's time to develop some supporting points for the main topics.\n"
   ]
  },
  {
   "cell_type": "markdown",
   "metadata": {},
   "source": [
    "#### The conclusion concludes\n",
    "\n",
    "Copy your introduction, scroll down to the end of your outline and paste it. Your conclusion is merely a restatement of your introductory paragraph said in a different way. Your conclusion contains nothing new."
   ]
  },
  {
   "cell_type": "markdown",
   "metadata": {},
   "source": [
    "### W03 - Business writing\n",
    "\n",
    "The first paragraph roadmap tells your reader:\n",
    "* What you're writing about (description).\n",
    "* What their destination is (your purpose).\n",
    "* How you are going to get there (summary points).\n",
    "\n",
    "For any other kind of document, different from a memo, roadmap your document:\n",
    "* Start with your purpose.\n",
    "* Describe what you're writing about.\n",
    "* Summarize your most important points."
   ]
  },
  {
   "cell_type": "markdown",
   "metadata": {},
   "source": [
    "#### Signposting with Topic Sentences\n",
    "\n",
    "A topic sentence in the first sentence of every paragraph. The topic sentence does two vitally important things for you as the writer.\n",
    "One, it gives your reader a signpost on their journey through your document. You provided a roadmap in your introduction. Your topic sentences provide signposts so that your reader knows exactly where they are on their map or to put it another way. You're controlling the reading experience and guiding your reader precisely through your document so that they can't get lost or deviate from the argument that you want to make or the information that you want to impart. The second thing that a strong topic sentence does is serve as a signpost for you, the writer.\n",
    "\n",
    "The topic sentence tells you what should go in the paragraph as you write it. Every sentence in the paragraph has to relate to the topic sentence. If it doesn't, then that subject needs to go somewhere else in your document or you just need to cut it. Just try to construct decent sentences, not perfect ones. Come back later and revise."
   ]
  },
  {
   "cell_type": "markdown",
   "metadata": {},
   "source": [
    "#### Voicing Writing\n",
    "\n",
    "Read your revisions out loud and see if it sounds good. You hear grammatical mistakes. Read it out loud and listen. Listen to how the words flow. Does it sound like something you'd say to the boys down at the bar? Or does it sound like something you'd say to your boss on a great day?\n",
    "\n",
    "So listen, listen to those words and revise. And work them around your mouth until you get your voice into your writing, enough to capture the spontaneity of who you are, but not so much as to weaken your own authority."
   ]
  },
  {
   "cell_type": "markdown",
   "metadata": {},
   "source": [
    "#### Writing a paragraph\n",
    "\n",
    "In the outline of every paragrpah, we have some supporting points. It is time to develop those bullets and remove then once they have been writen.\n",
    "\n",
    "Every time we produce a document, create a presentation or give a talk we not only deliver information, we offer ourselves for the judgement of our audience.\n",
    "\n",
    "How do I know my paragraph's too long? It looks too long. It's too daunting. So now I need to go back and revise and make the reading experience easier.\n",
    "\n",
    "While writing the paragrpah, keep in mind the principles of clarity and brevity. Revise and rewrite the paragraph so that you transmit the same ideas using shorter sentences, and avoid repeating ideas. Use active voice for the topic sentence."
   ]
  },
  {
   "cell_type": "markdown",
   "metadata": {},
   "source": [
    "#### Conclusion\n",
    "\n",
    "Your conclusion concludes. Your conclusions contains no new information. It's a summary of your argument."
   ]
  },
  {
   "cell_type": "markdown",
   "metadata": {},
   "source": [
    "#### Grammar\n",
    "\n",
    "Some grammar resources: the Purdue Online Writing Lab; Strunk and White, the Grammar Devotional.\n",
    "* I vs me: I is a first person subject pronoun. I is always the subject. You use I when you are taking the action in a sentence. Me is an object pronoun. You use me when the action is being done to you or when you use a preposition. Most of the confusion comes when there's more than two parties in a sentence. The easiest way to check yourself is to eliminate all of them, except you.\n",
    "* Modifiers: A modifier is a word or a phrase that modifies or enhances the meaning that you impart in a sentence. Modifiers can add interest to writing if they're used correctly. Modifiers are adverbs, adjectives, or phrases. They must be next to what they modify. If they're not, then you lose clarity.\n",
    "* Serial comma: In a list of three or more items, a serial comma is placed before the words and, or or. Our goal is to provide the best possible reading experience. Even when we think something is clear, it might not be to our reader.\n",
    "* Pronouns: Pronouns are the parts of speech that take the place of a noun. Pronouns refer to the closest preceding noun in the sentence, to the closest noun that comes before the pronoun. Problems of clarity arise when what I think of as the anchoring noun, otherwise known as the antecedent, isn't clear. Or even the antecedent is hidden. You should never use a pronoun in a topic sentence for a paragraph. If you're starting a new paragraph, you should treat it as new, as if there's no antecedent.\n",
    "* Apostrophe abuse: Don't make a plural with an apostrophe. You use an apostrophe in a contraction or with a possessive. There's an important exception to this rule. And that has to do with its without an apostrophe versus it's with an apostrophe. This is a rule you just simply need to memorize. Its without an apostrophe is used for the possessive case.\n",
    "* You're vs your: You are (contracted) versus possession.\n",
    "* That vs which: When you use a modifier in a sentence, that provides essential information, you use that. Because the information is essential to my sentence I also don't use commas around the modifying phrase. However, when you use a modifier in a sentence that provides unessential information, you use which, and you do use a comma."
   ]
  },
  {
   "cell_type": "code",
   "execution_count": null,
   "metadata": {},
   "outputs": [],
   "source": []
  }
 ],
 "metadata": {
  "kernelspec": {
   "display_name": "Python 3",
   "language": "python",
   "name": "python3"
  },
  "language_info": {
   "codemirror_mode": {
    "name": "ipython",
    "version": 3
   },
   "file_extension": ".py",
   "mimetype": "text/x-python",
   "name": "python",
   "nbconvert_exporter": "python",
   "pygments_lexer": "ipython3",
   "version": "3.7.1"
  }
 },
 "nbformat": 4,
 "nbformat_minor": 2
}
