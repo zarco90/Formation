{
 "cells": [
  {
   "cell_type": "markdown",
   "metadata": {},
   "source": [
    "# Effective Communication: Writing, Design, and Presentation\n",
    "\n",
    "## C01 - Business writing\n",
    "\n",
    "### W01 - Building Great Business Writing\n",
    "\n",
    "#### The Basis of Good Writing\n",
    "\n",
    "We've looked at examples of bad writing and no surprise, you can tell the difference between bad writing and good writing. This is good news. You're already on your way to learning how to write. The question becomes, how do we create good writing?\n",
    "You need to understand the principles that really feed into the whole process. First, you need to understand the main quality of good business writing, what we're always working towards when we write. I call it the windowpane theory and it comes from a quote by George Orwell. He's famous for writing the classic books 1984 and Animal Farm. Orwell said, good writing is a windowpane. First of all, a windowpane is something that we can see through. A dirty window pane can't do its job. If its too dirty to see through, it looses its function. You have to work to see beyond it. Our writing should be transparent.\n",
    "\n",
    "Best writting practices:\n",
    "* Clarity above all - have I been as clear as possible? Cut extra words, add bullet points for your list to make them easier to read and start to really craft your reading so that it's clear.\n",
    "* Waste no time - Your readers are very busy. If you give your reader too much to read, you might be ignored or simply lost in the shuffle. You need to work intentionally, through design and revision, to create a short document for your reader.\n",
    "* Be the authority - Our goal with our tone isn't to sound smart, it's to be smart. When a writer writes to sound smart, they fail, because complexity detracts from your goal. We don't want our readers to have to do any extra work. Choosing sentence structure or fancy vocabulary so that you sound smart actually does just the opposite. Say what you mean, simply and directly. And be the authority when you write. Avoid wishy-washy words like should, maybe, could, might, or think, when you write.\n",
    "* Design your document. Good writers spend time on formatting and design. The very first thing that your reader sees, isn't the words on the page, it's how your document looks.\n",
    "* Scaffold well to write well.\n",
    "* There is no good writing without good revision\n",
    "* Write your purpose - You don't need to justify your purpose before you ever get there. You need to start with your purpose and then you can build your justifications later in your document (introduction trap). You have to be willing to cut the things that don't fit our scaffold and don't address your purpose. And you have to be willing to do it mercilessly. A good tool to use when you begin is to start with the words, the purpose of this memo. That forces you to stick to the point and jump right in. This is just a first draft. You can go back and revise your first sentence after you've gotten started.\n",
    "* Grammar matters - We want to control the reading experience so our audience understands exactly what we want them to. That's why grammar's important. It makes you look good and helps you get your ideas across with clarity.\n",
    "* Activate your voice - Change from passive to active voice.\n",
    "* Hack away at the unessential"
   ]
  },
  {
   "cell_type": "markdown",
   "metadata": {},
   "source": [
    "There are three sub-points to the idea that everyone needs an editor:\n",
    "* Feedback is essential to success, even if it hurts sometimes.\n",
    "* Everyone gets too close to what they're working on.\n",
    "* To be a professional of any sort means being willing to take the lumps from a mentor who is making you better at what you do. "
   ]
  },
  {
   "cell_type": "markdown",
   "metadata": {},
   "source": [
    "#### Looking your best\n",
    "The elements that make a memo successful are white space, short paragraphs and organizational tags that create the impression of an inviting, quick reading experience.\n",
    "\n",
    "There's also balance on the page. The entire page isn't filled with text, but it's located on the page in a way that's pleasing to the eye.\n",
    "\n",
    "Importantly, the paragraphs shall be short. Long paragraphs look like a lot of work.\n",
    "\n",
    "Finally, the use of bullet points and subheads suggest strong organization. It also makes a document seem skimable.\n",
    "You should use bullets and bold text strategically to guide your readers' experience. To control the way that they navigate through your documents. You want them to notice your most important ideas.\n",
    "You can also use bold face as a lead in to your paragraphs. If you have a series of clearly organized points for each of your paragraphs, you can add a bold face lead that tells your leader just what your paragraph is about."
   ]
  },
  {
   "cell_type": "markdown",
   "metadata": {},
   "source": [
    "#### Types\n",
    "\n",
    "When we're thinking about working with typography. The first thing is use type purposefully. Don't pick a typeface because you think it's cute, or because it happens to be the typeface that everybody's using right now. Pick a type face because it matches your message. Also, remember your reader. First and foremost, when we're designing a reader comes first. We have to make sure all this type we're putting on a page, is understandable. And, think about the form of type. You could actually have fun with it and have it still be readable as well."
   ]
  },
  {
   "cell_type": "markdown",
   "metadata": {},
   "source": [
    "### W02 - The formula for writing success"
   ]
  },
  {
   "cell_type": "markdown",
   "metadata": {},
   "source": [
    "#### Elements of a well organized document\n",
    "\n",
    "Business writing follows a formula and you can apply it to every document. Basic idea of the structure:\n",
    "* Say what you are going to say. Always begin with the purpose of your document. Get to your purpose immediately. Then, provide one or two sentences summarizing your primary argument.\n",
    "* Say it. The body of the document. Ellaborate the ideas you summarize in the introduction of the document. Follow the points of your introductory summary in order. The first point is always the most important.\n",
    "* Say what you have just said. The conclusion is a re-statement of your firsts paragraph, but with a different language. There's nothing new in the conclusions."
   ]
  },
  {
   "cell_type": "markdown",
   "metadata": {},
   "source": [
    "Now, scaffold the paragraphs:\n",
    "* One idea per paragraph.\n",
    "* Every paragraph begins with a strong topic sentence. If there is something in the paragraph that is not related to the topic sentence, cut it from the memo or put it somewhere else."
   ]
  },
  {
   "cell_type": "markdown",
   "metadata": {},
   "source": [
    "#### The body paragraphs\n",
    "\n",
    "Get started really outlining the argument. You need to know where you're going and you have to carefully order the points that you want to make. Make sure that every topic on my outline supports my purpose. Make sure that you don't repeat any ideas in more than one place.\n",
    "\n",
    "By grouping similar ideas in the same paragraphs, you can narrow down your supporting paragraphs and your argument's main points to key pieces.\n",
    "\n",
    "Now you need to decide what point is most important to you. And then you need to stick with it."
   ]
  },
  {
   "cell_type": "markdown",
   "metadata": {},
   "source": [
    "#### Building out the scaffold\n",
    "Now it's time to develop some supporting points for the main topics.\n"
   ]
  },
  {
   "cell_type": "markdown",
   "metadata": {},
   "source": [
    "#### The conclusion concludes\n",
    "\n",
    "Copy your introduction, scroll down to the end of your outline and paste it. Your conclusion is merely a restatement of your introductory paragraph said in a different way. Your conclusion contains nothing new."
   ]
  },
  {
   "cell_type": "markdown",
   "metadata": {},
   "source": [
    "### W03 - Crafting powerful writing\n",
    "\n",
    "The first paragraph roadmap tells your reader:\n",
    "* What you're writing about (description).\n",
    "* What their destination is (your purpose).\n",
    "* How you are going to get there (summary points).\n",
    "\n",
    "For any other kind of document, different from a memo, roadmap your document:\n",
    "* Start with your purpose.\n",
    "* Describe what you're writing about.\n",
    "* Summarize your most important points."
   ]
  },
  {
   "cell_type": "markdown",
   "metadata": {},
   "source": [
    "#### Signposting with Topic Sentences\n",
    "\n",
    "A topic sentence in the first sentence of every paragraph. The topic sentence does two vitally important things for you as the writer.\n",
    "One, it gives your reader a signpost on their journey through your document. You provided a roadmap in your introduction. Your topic sentences provide signposts so that your reader knows exactly where they are on their map or to put it another way. You're controlling the reading experience and guiding your reader precisely through your document so that they can't get lost or deviate from the argument that you want to make or the information that you want to impart. The second thing that a strong topic sentence does is serve as a signpost for you, the writer.\n",
    "\n",
    "The topic sentence tells you what should go in the paragraph as you write it. Every sentence in the paragraph has to relate to the topic sentence. If it doesn't, then that subject needs to go somewhere else in your document or you just need to cut it. Just try to construct decent sentences, not perfect ones. Come back later and revise."
   ]
  },
  {
   "cell_type": "markdown",
   "metadata": {},
   "source": [
    "#### Voicing Writing\n",
    "\n",
    "Read your revisions out loud and see if it sounds good. You hear grammatical mistakes. Read it out loud and listen. Listen to how the words flow. Does it sound like something you'd say to the boys down at the bar? Or does it sound like something you'd say to your boss on a great day?\n",
    "\n",
    "So listen, listen to those words and revise. And work them around your mouth until you get your voice into your writing, enough to capture the spontaneity of who you are, but not so much as to weaken your own authority."
   ]
  },
  {
   "cell_type": "markdown",
   "metadata": {},
   "source": [
    "#### Writing a paragraph\n",
    "\n",
    "In the outline of every paragrpah, we have some supporting points. It is time to develop those bullets and remove then once they have been writen.\n",
    "\n",
    "Every time we produce a document, create a presentation or give a talk we not only deliver information, we offer ourselves for the judgement of our audience.\n",
    "\n",
    "How do I know my paragraph's too long? It looks too long. It's too daunting. So now I need to go back and revise and make the reading experience easier.\n",
    "\n",
    "While writing the paragrpah, keep in mind the principles of clarity and brevity. Revise and rewrite the paragraph so that you transmit the same ideas using shorter sentences, and avoid repeating ideas. Use active voice for the topic sentence."
   ]
  },
  {
   "cell_type": "markdown",
   "metadata": {},
   "source": [
    "#### Conclusion\n",
    "\n",
    "Your conclusion concludes. Your conclusions contains no new information. It's a summary of your argument."
   ]
  },
  {
   "cell_type": "markdown",
   "metadata": {},
   "source": [
    "#### Grammar\n",
    "\n",
    "Some grammar resources: the Purdue Online Writing Lab; Strunk and White, the Grammar Devotional.\n",
    "* I vs me: I is a first person subject pronoun. I is always the subject. You use I when you are taking the action in a sentence. Me is an object pronoun. You use me when the action is being done to you or when you use a preposition. Most of the confusion comes when there's more than two parties in a sentence. The easiest way to check yourself is to eliminate all of them, except you.\n",
    "* Modifiers: A modifier is a word or a phrase that modifies or enhances the meaning that you impart in a sentence. Modifiers can add interest to writing if they're used correctly. Modifiers are adverbs, adjectives, or phrases. They must be next to what they modify. If they're not, then you lose clarity.\n",
    "* Serial comma: In a list of three or more items, a serial comma is placed before the words and, or or. Our goal is to provide the best possible reading experience. Even when we think something is clear, it might not be to our reader.\n",
    "* Pronouns: Pronouns are the parts of speech that take the place of a noun. Pronouns refer to the closest preceding noun in the sentence, to the closest noun that comes before the pronoun. Problems of clarity arise when what I think of as the anchoring noun, otherwise known as the antecedent, isn't clear. Or even the antecedent is hidden. You should never use a pronoun in a topic sentence for a paragraph. If you're starting a new paragraph, you should treat it as new, as if there's no antecedent.\n",
    "* Apostrophe abuse: Don't make a plural with an apostrophe. You use an apostrophe in a contraction or with a possessive. There's an important exception to this rule. And that has to do with its without an apostrophe versus it's with an apostrophe. This is a rule you just simply need to memorize. Its without an apostrophe is used for the possessive case.\n",
    "* You're vs your: You are (contracted) versus possession.\n",
    "* That vs which: When you use a modifier in a sentence, that provides essential information, you use that. Because the information is essential to my sentence I also don't use commas around the modifying phrase. However, when you use a modifier in a sentence that provides unessential information, you use which, and you do use a comma."
   ]
  },
  {
   "cell_type": "markdown",
   "metadata": {},
   "source": [
    "### Activate your voice\n",
    "#### Writing is revision\n",
    "\n",
    "* Do you began directly with your purpose?\n",
    "* Does your introduction provide a clear point by point summary of the argument that follows?\n",
    "* Do you have strong topic sentences? Or do these need rewriting to be more direct?\n",
    "* Do you have one topic per paragraph?\n",
    "* Does your conclusion conclude?"
   ]
  },
  {
   "cell_type": "markdown",
   "metadata": {},
   "source": [
    "#### Keep it simple\n",
    "\n",
    "* Have I said exactly what I mean to say? Sometimes when we translate an idea from our mind to the page, we lose a little bit of our clarity, because we have context within our heads that our readers can't see. If I'm coming to this document without the background that I have, does this make sense?"
   ]
  },
  {
   "cell_type": "markdown",
   "metadata": {},
   "source": [
    "#### Brevity is the soul of wit\n",
    "Brevity really comes down to two editing steps. First, keep your sentences short. And second, cut as many sentences and words as you can. if a sentences goes from more than two lines, you need to split it in two. I don't care what that's sentence is or what it says.\n",
    "Another quick way to cut words is to cut qualifiers and amplifiers, like very, really, or somewhat. Also connecting phrases like in fact, possibly, and generally can almost always go. Cutting extra words makes the reading experience more direct.\n",
    "\n",
    "<<A designer knows he's achieved perfection not when there's nothing left to add, but when there's nothing left to take away.>> Antoine de Saint-Exupery"
   ]
  },
  {
   "cell_type": "markdown",
   "metadata": {},
   "source": [
    "#### Always be Specific; Avoid Generalities and Jargon\n",
    "To avoid generalities, watch out in your sentences for what I think of as absolute words, like everyone, no one, all, always, never. Their presence is a warning that you may have written a generality. Non-specific words like many, most, a few or some, are also clues to you, that you need to add more details to your writing.\n",
    "You've probably noticed a tension between cutting words and adding detail, and you'd be right. But we can add specifics to imporve power and clarity to your writing. And then we're going in and cutting as many words as we can. When you write, use objective specifics whenever you can to add power to your writing."
   ]
  },
  {
   "cell_type": "markdown",
   "metadata": {},
   "source": [
    "#### The power of active voice\n",
    "Getting rid of passive voice is one of the most important things that you can do to improve your writing.\n",
    "Passive voice is indirect, it adds vagueness to your writing, which is the opposite of the goals of this course. Passive voice takes more words to write, this works against our goals of clarity and waste no time. Getting rid of passive voice adds energy to your writing and makes you more interesting and vibrant.\n",
    "The building block of English grammar works on a subject, verb, object formula."
   ]
  },
  {
   "cell_type": "markdown",
   "metadata": {},
   "source": [
    "#### Limit crutch verbs\n",
    "A simple writing trick that will immediately elevate your writing is to eliminate as many instances of the verbs to be and to have as you can. They're useful but they also become repetitious and boring. This technique adds variety to my writing and forces me to come up with more interesting verbs and sentences. If you could eliminate the verbs to be and to have, it will immediately elevate your writing."
   ]
  },
  {
   "cell_type": "markdown",
   "metadata": {},
   "source": [
    "#### Cut Prepositional Phrases\n",
    "Watch for and limit your use of prepositions. Deleting prepositions will get rid of unnecessary baggage in your writing. In cutting prepositional phrases, we are hacking away at the unessential. A prepositional phrase is the preposition and the noun that follows it. You can often edit these phrases out of your sentences to save time, and to enhance clarity.\n",
    "\n",
    "#### Don't repeat words\n",
    "When you revise, always look for repeated words and sounds and edit them out of your documents. Using the same word over and over and over and over gets really. Similarly, you want to keep an eye out for repeated sounds and edit for that.\n",
    "\n",
    "#### Always proofread\n",
    "\n",
    "You have to always proofread. And the more important the document, the more careful you have to be. If your document's full of errors, it tells your reader that you're sloppy.\n",
    "Aside from carefully checking everything, two techniques for proofreading are to start at the end of your document and actually read it backwards, or to read your document out loud to yourself."
   ]
  },
  {
   "cell_type": "markdown",
   "metadata": {},
   "source": [
    "#### Emails\n",
    "\n",
    "First of all, emails are a little more informal than a memo, and second of all, emails have gotta be short. Blaise Pascal <<If I had more time, I would have written you a shorter letter.>>\n",
    "It's really important to be nice and revise it and then insert above that something nice like, \"so good to hear from you\", \"Hope the kids are doing well. It shows that I'm taking the time for you.\n",
    "No five sentence emails, everything had to be two or three sentences. And if it were five sentences, come in to the office and tell what's up. If you begin with the positive statement at the beginning, you set the emotional term for the whole image. The salutation in an email is important. Dear tells you that this is a little more formal. Hi! tells you this is at least beginning more friendly, whatever it may turn out to be. You can also end with \"best of luck with your project\".\n",
    "\n",
    "#### Long documents\n",
    "\n",
    "Each section of a longer memo gets it's own scaffold. Each section has it's own introductory roadmap, body paragraphs, and conclusion. Then, the entire long document gets it's own introduction and it's own conclusion.\n",
    "On a side note, when writing a comparative memo like this one, use parallel structures so that each section of my document follows the same narrative order. It makes it easier for my reader."
   ]
  },
  {
   "cell_type": "markdown",
   "metadata": {},
   "source": [
    "### Self-editing checklist\n",
    "\n",
    "#### Appearance:\n",
    "* Does your document look good on the page? Is it balanced and look easy to read?\n",
    "* Are your paragraphs short?\n",
    "* Do you make good use of white space?\n",
    "* Have you considered your typeface?\n",
    "\n",
    "#### The scaffold\n",
    "* Do you start immediately with a purpose?\n",
    "* Do the next sentences provide a summary of the argument to follow?\n",
    "* Does your introduction “roadmap” your argument for your reader?\n",
    "* Do you start your body paragraphs with your most important point?\n",
    "* Does each paragraph have a strong topic sentence?\n",
    "* Do you address only one topic per paragraph?\n",
    "* Does your conclusion conclude? No new information?\n",
    "\n",
    "#### Self-revision\n",
    "* Edit every sentence for simplicity and clarity.\n",
    "* Check to make sure none of your sentences are too long.\n",
    "* Hack away at the unessential.\n",
    "* Remove generalities and jargon.\n",
    "* Check for grammar.\n",
    "* Check for repeated words.\n",
    "* Get rid of the passive voice.\n",
    "* Get rid of many forms of the verb “to be” or “to have” as you can.\n",
    "* Cut as many prepositional phrases as you can.\n",
    "* Always proofread!\n",
    "* Consider asking a trusted colleague for feedback."
   ]
  },
  {
   "cell_type": "markdown",
   "metadata": {},
   "source": [
    "### Common prepositions\n",
    "Aboard, about, above, across, after, against, along, amid, among, anti, around, as, at, before, behind, below, beneath, beside, besides, between, beyond, but, by, concerning, considering, despite, down, during, except, excepting, excluding, following, for, from, in, inside, into, like, minus, near, of, off, on, onto, opposite, outside, over, past, per, plus, regarding, round, save, since, than, through, to, toward, towards, under, underneath, unlike, until, up, upon, versus, via, with, within, without.\n",
    "\n",
    "### Common pronouns\n",
    "I, Me, We, Us, You, She, Her, He, Him, It, They, Them, Who, Whom, Whose, Anybody, Anyone, Anything, Each, Either, Everybody, Everyone, Everything, Neither, Nobody, No one, Nothing, One, Somebody, Someone, Something, Both, Few, Many, Several, All, Any, Most, None, Some, Myself, Ourselves, Yourself, Yourselves.\n"
   ]
  },
  {
   "cell_type": "markdown",
   "metadata": {},
   "source": [
    "## C02 - Graphic design\n",
    "### W01 - Getting started\n",
    "\n",
    "#### Design vocabulary\n",
    "\n",
    "Is there a clear message? Is there a dominant feel or theme? Is there a sense that a thing is balanced, because it feel like theirs too much lighter, not enough light does it feel too dark, does it feel too heavy, does it feel too colorful? Does it feel organized? Is there an obvious portal or target, do I know where to look first when I look at this particular piece? Does it feel polished? Does it feel confident?\n",
    "\n",
    "#### Best design practices\n",
    "* You can't create in a vacuum.\n",
    "* A good design should always start with a grid.\n",
    "* Negative space is just as important as its content.\n",
    "* In any one design project, limit yourself to two typefaces and make certain those two typefaces contrast obviously with one another.\n",
    "* Use color with intention. Don't just guess.\n",
    "* Design, don't decorate.\n",
    "* Contrast demands attention.\n",
    "* Use tension to put life and movement into your work.\n",
    "* Your audience should be given an obvious portal into your composition.\n",
    "* Always get as much time and distance as possible in assessing your work."
   ]
  },
  {
   "cell_type": "markdown",
   "metadata": {},
   "source": [
    "#### Unexpected places yield unexpected results\n",
    "\n",
    "Designers are always looking around for inspiration from the outside world to help them inform their decisions in how they're going to approach a project. Find an inspiration place not to steal ideas, but to help us see our project through new eyes and get new ideas on how we could approach things.\n",
    "The Internet is full of good things, and bad things, and in between things. It's not cherry picked according to any kind of a system. Unless you go to a design blog or you go to someone's Pinterest album. There are all sorts of things out there and it's really hard to make the right judgements and to know where to look for inspiration. For instance, if I'm doing a PowerPoint presentation on muddy waters, the last place I'm going to look is on how other people approach PowerPoint presentation. I'm not going to do a Google search on PowerPoint templates. Because my Muddy Waters presentation might look like everyone elses, and I don't want that. Instead, I might look at sources outside the box, sources that make sense. I might look at Rolling Stone magazine\n",
    "So this all goes along with this idea of looking at the broader world of design before we even start a project. When you're working on a project, think about the soul of the project. The heart of the message, not the medium that you're delivering it on."
   ]
  },
  {
   "cell_type": "markdown",
   "metadata": {},
   "source": [
    "#### The black canvas\n",
    "Use a grid before starting the design process to line things up. You can recycle a grid from one design to another, like a template.\n",
    "\n",
    "#### The rule of thirds\n",
    "When we look at things that are well-designed, above the horizon, they look natural. And it's based on common perception, it's how things feel they should be.\n",
    "There's another principle, the rule of thirds. It's very simple and powerful. If we take any rectangle and divide it into 9 equal parts, that's three rows and three columns, it's the intersections of those parts that are visually the most interesting. The center spot, even though if it feels like the natural place for people to center of things, actually that's where beauty goes to die. It's the least interesting part of our composition.\n",
    "\n",
    "<table><tr>\n",
    "<td> <img src=\"images_design/rule_of_third.PNG\" style=\"height: 300px;\"/> </td>\n",
    "<td> <img src=\"images_design/margins.PNG\" style=\"height: 300px;\"/> </td>\n",
    "</tr></table>\n",
    "\n",
    "#### Negative spaces\n",
    "The parts that don't have content are called negative space. Negative space is just as important in composition and designing as the content itself, as the zones or the places where we're putting content. We want to think about negative space right from the start of the design process. Negative space effects how our audience feels and it effects our relationship with our audience. We can invite our audience in to wreck their attention, lead them within a composition using negative space.\n",
    "If we use a light blue overlay to define the unused, \"sacred\" space in the composition, we can see that negative space can be a strong structural component for keeping our designs orderly and clean.  "
   ]
  },
  {
   "cell_type": "markdown",
   "metadata": {},
   "source": [
    "### W02 - The palette\n",
    "\n",
    "Type is a very important part of design. Always chose type according to the message, not your personal taste.\n",
    "Let your best work reflected by the best work of experts. Go with the classics. Do not use custom design typefaces from the internet. You are taking a chance."
   ]
  },
  {
   "cell_type": "markdown",
   "metadata": {},
   "source": [
    "#### Type anatomy\n",
    "Type is a beautiful thing. Some important things to know about type anatomy, right before we get started.\n",
    "* Type weights. So Arial Black is a very heavy, very weighty typeface.\n",
    "* Difference between Serif and Sans Serif: that little slab on the end of the letter form is a serif.\n",
    "\n",
    "<table><tr>\n",
    "<td> <img src=\"images_design/type_anatomy_1.JPG\" style=\"height: 300px;\"/> </td>\n",
    "<td> <img src=\"images_design/type_anatomy_2.JPG\" style=\"height: 300px;\"/> </td>\n",
    "</tr></table>\n",
    "\n",
    "* The baseline is the line that our letters sit on. If I simply set a letter on a line that has a rounded bottom, it's going to feels as if it's floating unless I drop it slightly below the line. In typography that's called the overshoot. Making sure letters with rounded bottoms sit slightly below the baseline will make sure that they feel grounded. \n",
    "* The counter is the inside of a hollowed out letter. Lower case o, lower case e, lower case a, those letters all have counters. The bowl is the part of the letter around the counter.\n",
    "\n",
    "<table><tr>\n",
    "<td> <img src=\"images_design/type_anatomy_3.JPG\" style=\"height: 300px;\"/> </td>\n",
    "<td> <img src=\"images_design/type_anatomy_4.JPG\" style=\"height: 300px;\"/> </td>\n",
    "</tr></table>\n",
    "\n",
    "* The axis, or the stress of a letter, is the angle at which a letter appears to sit on the baseline.\n",
    "* Thicks and thins. The proportional difference between thick sections of a letter and thin sections, completely changes the personality of a typeface.\n",
    "\n",
    "<table><tr>\n",
    "<td> <img src=\"images_design/type_anatomy_5.JPG\" style=\"height: 300px;\"/> </td>\n",
    "<td> <img src=\"images_design/type_anatomy_6.JPG\" style=\"height: 300px;\"/> </td>\n",
    "</tr></table>\n",
    "\n",
    "* Ascenders are the stems on lower case letters, like the lower case h or lower case b. And descenders are tails on the lower case letters, like the lower case g and lower case p.\n",
    "* The x height is the relationship of lowercase letters to letters with ascenders, or uppercase letters. It affects the look of the page, the readability. Century Gothic feels airier. It feels a little bit more modern. Garamond, exactly the same point size, 22 point, feels more constricted. Neither one is good or bad.\n",
    "\n",
    "<table><tr>\n",
    "<td> <img src=\"images_design/type_anatomy_7.JPG\" style=\"height: 300px;\"/> </td>\n",
    "<td> <img src=\"images_design/type_anatomy_8.JPG\" style=\"height: 300px;\"/> </td>\n",
    "</tr></table>"
   ]
  },
  {
   "cell_type": "markdown",
   "metadata": {},
   "source": [
    "#### Type families\n",
    "\n",
    "So if type has personality, it's the family that that particular typeface lives in that gives it its personality: Oldstyle, Modern, Slab serif, Sans serif, Script, and Decorative.\n",
    "\n",
    "<table><tr>\n",
    "<td> <img src=\"images_design/type_families_1.JPG\" style=\"height: 300px;\"/> </td>\n",
    "</tr></table>\n",
    "\n",
    "* Oldstyle is a traditional typeface. It goes way back. Oldstyle are, diagonal stress on the letter form, slanted stress on the serif. A subtle thick/thin contrast. Some of the typefaces that live within the Oldstyle family are Hoefler, Times, Palatino, Georgia, Baskerville, Garamond. Beautiful typefaces. If you're looking for warmth, a feel of tradition, an Oldstyle typeface is the perfect choice.\n",
    "* Modern typeface. The Modern typeface is a fairly modern design. The typefaces that fall within this family would be Bodoni, Onyx, and one in fact called Modern. We see a vertical stress on the letter. And the serifs are flat. And there's an extreme thick and thin contrast. Modern typefaces are perfect for high fashion and for money and for things that feel luxurious and for showbiz.\n",
    "\n",
    "<table><tr>\n",
    "<td> <img src=\"images_design/type_families_2.JPG\" style=\"height: 300px;\"/> </td>\n",
    "<td> <img src=\"images_design/type_families_3.JPG\" style=\"height: 300px;\"/> </td>\n",
    "</tr></table>\n",
    "\n",
    "* Slabbed serif typefaces still have a boxy serif. It's flat. The letters are vertically stressed. There's a minimal thick/thin contrast. And the two big players here are Rockwell and Lubalin. This particular typeface works really well for anything that feels mechanical and precise.\n",
    "* The next family of typefaces are the more modern typefaces. They're the ones that we're mostly familiar with in the world around us. These are the Sans serif typefaces. There's no serif in a Sans serif typeface. There is a very subtle thick/thin contrast, and the letter forms, they are vertically stressed. The typefaces we'll find in this family are most likely Helvetica, Arial, Geneva, Futura, Franklin Gothic. This is a clean typeface. It's uncluttered. It's businesslike. And this is the typeface that you would see maybe when you go to an airport and you see signage. Ideal for doing very clean modern design work.\n",
    "\n",
    "<table><tr>\n",
    "<td> <img src=\"images_design/type_families_4.JPG\" style=\"height: 300px;\"/> </td>\n",
    "<td> <img src=\"images_design/type_families_5.JPG\" style=\"height: 300px;\"/> </td>\n",
    "</tr></table>\n",
    "\n",
    "\n",
    "* The other family of typefaces that you might have at your disposal on your computer are the Script typefaces. And these approximate what we do human handwriting, essentially. It is potentially very ugly.  A lot of script typefaces are very awkward, very clumsy looking, not very attractive. Edwardian Script, Dakota, Brush Script is a great retro typeface. So it's perfect for a treatment that involves a bit of parity, but certainly you wouldn't want to use if for something like a resume.\n",
    "* The decorative typefaces are the ones that are affected. They feel like they're saying something like chalk on a chalkboard. Or they have curlicues. These, can be potentially very silly but there are times when you may want to use them. Chalk Duster\n",
    "\n",
    "<table><tr>\n",
    "<td> <img src=\"images_design/type_families_6.JPG\" style=\"height: 300px;\"/> </td>\n",
    "<td> <img src=\"images_design/type_families_7.jpg\" style=\"height: 300px;\"/> </td>\n",
    "</tr></table>\n",
    "\n",
    "Best design practices number 4. In any one design project, limit yourself to two typefaces and make certain those two typefaces contrast obviously with one another.\n",
    "We don't want our work to look like a ransom note. And we want typefaces to contrast strongly with one another. We don't want them to look similar, because it looks mushy.\n",
    "For instance, Gil Sans Bold with Baskerville Italic. A Serif typeface and a completely different style. It feels lighter, it's more elegant. We're going to have good contrast and typefaces if we mixed Serif and Sans serif, and this is a very standard design practice. Or Arial Bold for the title and the body copy is set in Time. This practice is recommended for designing business cards, letter head, web design, and PowerPoint presentations."
   ]
  },
  {
   "cell_type": "markdown",
   "metadata": {},
   "source": [
    "#### Type formatting\n",
    "\n",
    "The space between any two given letters is called Kerning, and we need to adjust the kerning sometimes because things don't look quite right. If you're working on a title, it's important to know about kerning because you may need to kern individual combinations of letters.\n",
    "\n",
    "Adjusting the spacing between all of the letters in a word or a line of text is called Tracking. Book covers, magazines, everywhere of this kind of a technique is very powerful in making text work for you.\n",
    "\n",
    "<table><tr>\n",
    "<td> <img src=\"images_design/type_formatting_1.JPG\" style=\"height: 300px;\"/> </td>\n",
    "<td> <img src=\"images_design/type_formatting_2.JPG\" style=\"height: 300px;\"/> </td>\n",
    "</tr></table>\n",
    "\n",
    "The space between lines is called Leading.\n",
    "\n",
    "We recognize words as much from their shape as from the letters themselves. We look at a word like ant and it has a particular shape to it. We can quickly scan that and know what that word is. That's why lowercase letters are easier to read than uppercase letters because they have specific shapes. When I set a word in all uppercase, it's generic. There's no form to it, so we can see that, when we look at entire bodies of copy that are set in upper and lowercase, or set in all uppercase, it's very, very difficult to read type that's set in all uppercase. Avoid it, except in certain instances. For instance, it can be beautiful to read. We don't have ragged tops along the top of the letters, and it creates a design element on the page that feels harmonious and organized. The reason we can do this is because it's a very limited amount of reading. We wouldn't do this with an entire paragraph, but for a limited amount of text it's okay to break the rules. \n",
    "\n",
    "<table><tr>\n",
    "<td> <img src=\"images_design/type_formatting_3.JPG\" style=\"height: 300px;\"/> </td>\n",
    "<td> <img src=\"images_design/type_formatting_4.JPG\" style=\"height: 300px;\"/> </td>\n",
    "</tr></table>\n",
    "\n",
    "Text alignment: Flush left, rag right. That means all the text is lined up on the left side of the page, and it's ragged on the right. Standard way, most conventional way, and the easiest way to read the set type on a page.\n",
    "When we set type flush right, ragged left, there is a major problem with this, and that's the readability. This searching we have to do when we get to the end of a line. There's an exception. Let's say we've got a body of copy and we've set it next to a photograph with a strong vertical axis. If the copy is to the left of the photo and it's set flush-left, rag-right, we get this. It's trapped space and it's kind of distracting and awkward.\n",
    "It's okay to break typographic rules, but only in small doses.\n",
    "\n",
    "<table><tr>\n",
    "<td> <img src=\"images_design/type_formatting_5.JPG\" style=\"height: 300px;\"/> </td>\n",
    "<td> <img src=\"images_design/type_formatting_6.JPG\" style=\"height: 300px;\"/> </td>\n",
    "</tr></table>\n",
    "\n",
    "Centered type has the same problem that that typeset flush right, rag left has. When we get to the end of a line, we don't know where we have to go to pick up the next line. We have to scan and search. Center type is hard to read, great for titles, great for limited uses, but not a good idea for body copy.\n",
    "As we get to that narrowest column width with justified type, we get these things called rivers. These huge gaps between the words in the column of text that are distracting. That's the problem we run into when we work with justified type in narrow column width. Try to avoid it. If you're going to justify type, make certain you keep the column width wide enough so that you don't get rivers.\n",
    "<table><tr>\n",
    "<td> <img src=\"images_design/type_formatting_7.JPG\" style=\"height: 300px;\"/> </td>\n",
    "</tr></table>\n",
    "Stacked types is awful. It's hard to read and it feels outdated, and unless you have a very good reason, don't stack type. "
   ]
  },
  {
   "cell_type": "markdown",
   "metadata": {},
   "source": [
    "#### Creating with type\n",
    "\n",
    "For titles, you can use a normal title, or a nested title. Breaking up a line of type, so that it feels a little bit more unusual, in this case we're cascading the type down the page and looking for opportunities to actually nest lines of type back together. This is used especially in book covers, in a title slide for a presentation, or in an annual report cover.\n",
    "\n",
    "If we can bring type into the photographs itself it feels richer. A lot of times we run into trouble, because backgrounds can be so complex. We can use something called a drop shadow. That's taking a title, and putting a black copy of itself underneath it, and offset. Typically, we do this with a black shadow to the lower right. It creates the illusion that our light source is above, and to the left of the copy. We can also use translucent boxes, and different tricks."
   ]
  },
  {
   "cell_type": "markdown",
   "metadata": {},
   "source": [
    "#### Color and its meaning\n",
    "\n",
    "The red yellow stimulate the appetite.\n",
    "As with type, color becomes the message itself. It affects human behavior and perceptions in ways that can be very interesting, sometimes they're stereotypical. Sometimes there's cliche involved, but color is extremely powerful.\n",
    "\n",
    "* Green, typically, goes along with fertility, growth, safety and harmony. Big color these days, because of sustainability.\n",
    "* Red, energy, passion, power, danger, sex.\n",
    "* Orange, creativity, success, the arts.\n",
    "* Yellow, happiness, intellect, youth.\n",
    "* Blue, wisdom, faith, security and comfort.\n",
    "\n",
    "<table><tr>\n",
    "<td> <img src=\"images_design/color_meaning_1.JPG\" style=\"height: 300px;\"/> </td>\n",
    "</tr></table>\n",
    "\n",
    "Is every project this sensitive to color? Of course, not. Sometimes we can play with color and do all sorts of wonderful things. Color affects how people feel just like type about our message. It becomes the message itself.\n",
    "\n",
    "Best design practices number five -  use color with intention. Don't just guess. Do your homework. Study up before you pick a color."
   ]
  },
  {
   "cell_type": "markdown",
   "metadata": {},
   "source": [
    "#### Color and the natural world\n",
    "\n",
    "In the real world, there's very little raw, saturated color. Most color is a shade of gray.\n",
    "\n",
    "In graphic design knowing about natural color can go a long way toward helping make your work look more elegant and more professional. This is a website I designed years ago for the engineering group at the University of Colorado. Colors are pulled from the photograph to populate the rest of the design.\n",
    "\n",
    "<table><tr>\n",
    "<td> <img src=\"images_design/color_natural_1.JPG\" style=\"height: 300px;\"/> </td>\n",
    "<td> <img src=\"images_design/color_natural_2.JPG\" style=\"height: 300px;\"/> </td>\n",
    "</tr></table>\n",
    "\n",
    "Bright raw saturated colors are completely out of place. Knowing about natural color is one of the best things you can do to ensure that your work looks polished and elegant, and professionally designed.\n",
    "\n",
    "When we talk about raw, saturated color, we're talking about the strip on the left. That's 100% saturated color. As we head towards grey scale, we become less and less saturated. It's the strips in between that have the colors that I find the most interesting, as a designer. It also allows to use more color.\n",
    "Take a color from the photograph and use that to inform the text or the graphics colors that you're putting along with the photograph.\n",
    "\n",
    "So, simply use natural color. Think of the elegance of color and the subtly of color in your work. Avoid those bright, raw colors unless you have very specific reason to use them. Use color with intention."
   ]
  },
  {
   "cell_type": "markdown",
   "metadata": {},
   "source": [
    "#### Image treatment\n",
    "\n",
    "One is, you're never stuck with an image. You can always do things to it to make it work more with your design.\n",
    "\n",
    "<table><tr>\n",
    "<td> <img src=\"images_design/image_treatment_1.JPG\" style=\"height: 300px;\"/> </td>\n",
    "<td> <img src=\"images_design/image_treatment_2.JPG\" style=\"height: 300px;\"/> </td>\n",
    "</tr></table>\n",
    "\n",
    "First is sublimation. Sublimation simply means how much of the background I can read through the photograph. In this case, we have a white background and the photograph is only about 50% opaque. The black background completely changes the photo.\n",
    "\n",
    "<table><tr>\n",
    "<td> <img src=\"images_design/image_treatment_3.JPG\" style=\"height: 300px;\"/> </td>\n",
    "<td> <img src=\"images_design/image_treatment_4.JPG\" style=\"height: 300px;\"/> </td>\n",
    "</tr></table>\n",
    "\n",
    "Grayscale, it simply make a color photograph into a black and white image. In tint, we take all of the color out of the photograph, reinfuse it with a blue, or a yellow, or whatever we want, and we tint the photograph, so it's really all shades of blue.\n",
    "\n",
    "<table><tr>\n",
    "<td> <img src=\"images_design/image_treatment_5.JPG\" style=\"height: 300px;\"/> </td>\n",
    "<td> <img src=\"images_design/image_treatment_6.JPG\" style=\"height: 300px;\"/> </td>\n",
    "</tr></table>\n",
    "\n",
    "High contrast and low contrast, you probably know what those mean already. But we can push the contrast to make the photograph feel completely different and we can blur the photograph. We can blur an image so that we can put things over it, and create the illusion of depth."
   ]
  },
  {
   "cell_type": "markdown",
   "metadata": {},
   "source": [
    "#### Creative cropping\n",
    "\n",
    "Sometimes it's the things we don't show that draws the audience in. One way to tease \n",
    "\n",
    "Here's a great ad I found in the New Yorker. The actor, Francis McDermond, is partially out of the frame. We hide part of her for exactly the same reason I think Winslow Homer hid those three fellows in the boat, outside the frame, so that there's a bit of mystery. We want to know more. We can do that with our cropping. If you make your audience work just a little bit, you build a better relationship.\n",
    "\n",
    "<table><tr>\n",
    "<td> <img src=\"images_design/creative_cropping_1.JPG\" style=\"height: 300px;\"/> </td>\n",
    "<td> <img src=\"images_design/creative_cropping_2.JPG\" style=\"height: 300px;\"/> </td>\n",
    "</tr></table>\n",
    "\n",
    "Another interesting aspect to is finding a more interesting image within a broader image. Never think of a photograph as a place, as an entity that you're stuck with, think of bits and pieces.\n",
    "\n",
    "By looking at very, very tight smaller parts of those images, we found something that was at once ambiguous and abstract, visually striking, and mysterious, beautiful. So think about that when you're cropping images, try to create a bit of mystery. In film making, there is a thing called a through frame shot. The camera remains stationary and the subject moves through the frame. We can do that with cropping, even with graphic elements to give us a sense of motion."
   ]
  },
  {
   "cell_type": "markdown",
   "metadata": {},
   "source": [
    "#### Graphic elements\n",
    "\n",
    "Graphic elements are the last part of the palette (type, color and photographs). Those are things like page ornamentations, boxes, lines, all sorts of things.\n",
    "\n",
    "This is one of the first things beginning designers do. They decorate rather than design. They feel like that by adding page ornamentation to the composition, they're making the composition more interesting, easier to understand, they feel like they're designing. They're not, they're decorating. You don't want to do that. By simply removing content, removing needless ink, things look better. Generally, adding ink only adds to the confusion, it only busies things up.\n",
    "In design, it's the same way than writting. You want to get right to the point, right to the core of the message.\n",
    "\n",
    "If we do want to add graphic elements, we need to keep them balanced and appropriate to the composition itself.\n",
    "\n",
    "Best design practices 6 - Design, don't decorate."
   ]
  },
  {
   "cell_type": "markdown",
   "metadata": {},
   "source": [
    "### W03 -  Design tricks\n",
    "\n",
    "Tricks sequence:\n",
    "* Contrast\n",
    "* White space\n",
    "* Repetition\n",
    "* Sublimation\n",
    "* Interlocking elements\n",
    "* Tension and movement\n",
    "\n",
    "#### Contrast\n",
    "\n",
    "Black and white teases out contrast unlike any other medium.\n",
    "\n",
    "If we look at this by Adams we see that contrast is used in several ways. The first is in light or density. The ridge in the middle ground is in deep shadow. The ridge behind it is getting full light. The sky behind that is dark. And the plain across the bottom is getting accluded light. That variation in light, or density, is one of the things that makes this such an exceptional photograph, but there's more. If we look at the ridge in the middle ground, we see that the form is curved. But the ridge behind that has jagged edges. Across the bottom, the plane is flat. That's contrast in form, which is another type of contrast. Which again, adds to the beauty of this photograph. But, there's even more.\n",
    "At the bottom of this frame we see a little critter. I think it is probably a cow. The scale of the cow versus the ridge behind him gives us a contrasting scale.\n",
    "\n",
    "<table><tr>\n",
    "<td> <img src=\"images_design/contrast_1.JPG\" style=\"height: 300px;\"/> </td>\n",
    "</tr></table>\n",
    "\n",
    "In graphic design, we can get contrast by mixing elements of different weight or density. Mixing elements that are different in form. Mixing elements that are different in scale. And, mixing elements that are different in color or hue. \n",
    "\n",
    "Even with a document, we can include contrast in our design to make an otherwise ordinary document look exceptional. Weights, scales, color, all sorts of things to make a document standout.\n",
    "\n",
    "Best design practices number 7 - Contrast demands attention."
   ]
  },
  {
   "cell_type": "markdown",
   "metadata": {},
   "source": [
    "#### White space\n",
    "\n",
    "White space is another great design thing, trick. And it's not seen as negative space. It's the receptacle that holds our content together on the page. And it's as important as the content itself. White space is a little different because white space is all about minimalism. It's all about opening things up and inviting the viewer in. It's about a sense of elegance. White space doesn't mean white. It can be red or blue or green or black or anything we want, but essentially what we're talking about is undeveloped real estate in our composition. And it's a very powerful tool for designers.\n",
    "\n",
    "This brings me need to presentations, to PowerPoints slides. You may have heard someone say that you should never going to have more than 20 or 30 PowerPoint slides in a presentation. That's horrible advice. People come to your presentation to listen to you. They don't come to look at your slides. On PowerPoint slides put less information on each slide and use more slides. It's easier for your audience to look at the slide, understand what it says, and get their attention back to you. "
   ]
  },
  {
   "cell_type": "markdown",
   "metadata": {},
   "source": [
    "#### Rhythm or repetition\n",
    "\n",
    "If we have one interesting thing, and we repeat it, something beautiful happens. If you find yourself stuck with a design project, this one will always get you out of the hole. It's a great starting place for working through any kind of a design challenge. We can even use this in document design.\n",
    "\n",
    "<table><tr>\n",
    "<td> <img src=\"images_design/repetition_1.JPG\" style=\"height: 300px;\"/> </td>\n",
    "<td> <img src=\"images_design/repetition_2.JPG\" style=\"height: 300px;\"/> </td>\n",
    "<td> <img src=\"images_design/repetition_3.JPG\" style=\"height: 300px;\"/> </td>\n",
    "<td> <img src=\"images_design/repetition_4.JPG\" style=\"height: 300px;\"/> </td>\n",
    "</tr></table>"
   ]
  },
  {
   "cell_type": "markdown",
   "metadata": {},
   "source": [
    "#### Sublimation\n",
    "\n",
    "Sublimation means simply taking an image and working with its opacity against a colored, or a white, or a black background, and letting the image become a subtle background for what it is we're trying to say. Like a lot of these tricks, you'll see this used virtually everywhere in web design, print design, even in videography and filmmaking.\n",
    "By the way, remember when we talked about nested titles in our video on typography? This is a nested title. Look at the way the lower case g and the lower case t in, strung out, work together in this title. \n",
    "\n",
    "<table><tr>\n",
    "<td> <img src=\"images_design/sublimation_1.JPG\" style=\"height: 300px;\"/> </td>\n",
    "<td> <img src=\"images_design/sublimation_2.JPG\" style=\"height: 300px;\"/> </td>\n",
    "</tr></table>\n",
    "\n",
    "So sublimation is simply a matter of playing with opacity and having a colored background, or a white, or a black background behind an image.\n",
    "\n",
    "With sublimation you can cover your tracks. Maybe you've had instance where you've had a low resolution image, maybe it's 600 pixels wide, and you want to do something big with it. Sublimating the image lets you cover your tracks. It hides the pixelizations somewhat so that we can use it more as a background or a wallpaper and less as an object of interest.\n",
    "\n",
    "<table><tr>\n",
    "<td> <img src=\"images_design/sublimation_3.JPG\" style=\"height: 300px;\"/> </td>\n",
    "</tr></table>"
   ]
  },
  {
   "cell_type": "markdown",
   "metadata": {},
   "source": [
    "#### Interlocking elements\n",
    "\n",
    "By interlocking elements I mean essentially elements in your composition that work with one another. \n",
    "The principles are really quite simple, if we've got a couple of elements in our composition, why not let them work together to form one element? We want overlaps to build stability.\n",
    "<table><tr>\n",
    "<td> <img src=\"images_design/interlocking_1.JPG\" style=\"height: 300px;\"/> </td>\n",
    "<td> <img src=\"images_design/interlocking_2.JPG\" style=\"height: 300px;\"/> </td>\n",
    "</tr></table>"
   ]
  },
  {
   "cell_type": "markdown",
   "metadata": {},
   "source": [
    "### Tension\n",
    "\n",
    "In most of our design works, some degree of tension is nice to have. But knowing what kind of tension and how much, is critical. And knowing what tension actually is. Tension is simply putting movement or life into our work, making it feel as if something is happening. There are a number of ways we can do that. The first is simply moving items closer together or to the edge of the frame. Or out of balance, or by tilting elements or with the use of sharp angles.\n",
    "\n",
    "<table><tr>\n",
    "<td> <img src=\"images_design/tension_1.JPG\" style=\"height: 300px;\"/> </td>\n",
    "</tr></table>\n",
    "\n",
    "Best practices in design number 8 - Use tension to put life and movement into your work.\n",
    "\n",
    "Proximity simply says, if we move any two items closer together in our composition, it will create an area of interest. It will create tension and it will attract the audience, it will bring them in. You can actually tell your viewers where to look first, by simply clustering elements together. Move elements closer together, you grab their eye and pull it in. Move them apart, and you relax that attraction.\n",
    "\n",
    "For designing a business card, when we have things spread around the card, everything feels dilute, it feels too airy. We can use proximity, moving things closer together to give our audience a clear target, absolutely critical.\n",
    "\n",
    "<table><tr>\n",
    "<td> <img src=\"images_design/tension_2.JPG\" style=\"height: 200px;\"/> </td>\n",
    "<td> <img src=\"images_design/tension_3.JPG\" style=\"height: 200px;\"/> </td>\n",
    "</tr></table>\n",
    "\n",
    "I want my design work to feel centered, not dilute. I want my audience to have a clear target. I don't want them confused. I don't want them guessing. Proximity is one of the best ways to offer a portal or an object of interest, to your audience, in a way that is calculated, and isn't left to chance.\n",
    "\n",
    "Another way to build a little tension in your work is to move elements to the very edge of the frame. Simply moving an element to the edge of the screen sets up a high degree of tension. If you're designing a business care, there's no law in the world that says you can't shove the name of the company to the edge and even a little bit off the card. It's an incredible way to get people to feel a sense of dynamics and movement.\n",
    "\n",
    "<img src=\"images_design/tension_4.JPG\" style=\"height: 200px;\"/>\n",
    "\n",
    "If I shove elements to the edge of the frame, I'd better go all the way. If I get just close to the edge, if it's accidental, it will feel simply like a weak undeveloped margin which isn't good. That doesn't feel right. So, when we're working with this type of tension go big or go home."
   ]
  },
  {
   "cell_type": "markdown",
   "metadata": {},
   "source": [
    "#### Tension and movement\n",
    "\n",
    "Sometimes balance is a good thing. But balance can also mean static. If we want to put life into our work static and balance may be the last thing we want. By simply moving elements off center, we can change things tremendously and this is another form of tension.\n",
    "\n",
    "We can tilt things as well. It gives us the sense that things are in movement. In our society when we tilt things counterclockwise it looks good. But, when we tilt them clockwise it doesn't feel right.\n",
    "\n",
    "Sharp angles also have a tremendous affect in how we feel about things. It's all about aggressiveness, the sharp angles support the tension, the feel for this particular logo, absolutely perfect.\n",
    "\n",
    "<img src=\"images_design/tension_5.JPG\" style=\"height: 200px;\"/>"
   ]
  },
  {
   "cell_type": "markdown",
   "metadata": {},
   "source": [
    "#### Target and portals\n",
    "\n",
    "How can you tell if something is poorly designed? Well if you don't know where to look and if you don't know what matters. It's not offering us a clear target, or clear message, or a clear portal. Where are people suppose to look and what matters.\n",
    "\n",
    "Best design practices number 9 - Your audience should be given an obvious portal into your composition.\n",
    "\n",
    "Important things to the front, lesser things to the back.\n",
    "\n",
    "<table><tr>\n",
    "<td> <img src=\"images_design/target_1.JPG\" style=\"height: 300px;\"/> </td>\n",
    "<td> <img src=\"images_design/target_2.JPG\" style=\"height: 300px;\"/> </td>\n",
    "</tr></table>"
   ]
  },
  {
   "cell_type": "markdown",
   "metadata": {},
   "source": [
    "#### Establishing priorities\n",
    "\n",
    "We always have to make certain that the important thing, is the thing that people see first.\n",
    "\n",
    "It's most natural for us to pick up information in a clockwise flow. So if you find yourself designing something that have stations of information around the screen, think in terms of clockwise flow.\n",
    "<table><tr>\n",
    "<td> <img src=\"images_design/priorities_1.JPG\" style=\"height: 300px;\"/> </td>\n",
    "<td> <img src=\"images_design/priorities_2.JPG\" style=\"height: 300px;\"/> </td>\n",
    "</tr></table>"
   ]
  },
  {
   "cell_type": "markdown",
   "metadata": {},
   "source": [
    "### W04 - Design is revision\n",
    "\n",
    "Two ideas: your work is not precious and it's time to stop seriously, because it's time to stop.\n",
    "\n",
    "The first is your work is not precious. Your designs aren't precious no matter how great you think they are. What really matters isn't the design, isn't the product itself, it's your creative ability. It's your creative style. That's the thing that's precious. After all, if you feel that your work is a result of a rare and wonderous process, then you'll rarely have wonderful ideas. It's important to remember that you can always redo something. You can always go back to the drawing board and start over. This is where you become a true designer. If you design long enough, someone is going to tell you, a client, or a boss, or your audience or your co-workers, they're going to tell you that you haven't done the job. They're completely unhappy with the product that you've come up with and that means that you have to start over again. Your first response to that is I can't start over again, this is perfect. The thing I've delivered is absolutely perfect, it can't be better. The thing is of course, it can always be better and it can always be different. It's just a matter of working hard enough, exploring, learning how to work with elements and making things happen. That's what precious. Not the project itself but your creative abilities.\n",
    "\n",
    "You can always find different solutions, different ways to solve a problem, but at some point you have to stop. That seems to run against this idea that there are an infinite number of solutions to any design problem, but at some point you do have to stop.\n",
    "\n",
    "In graphic design, it's so important to have as much distance and time as you can possibly get in judging your own work. We all know that we're really our own worst judges. We can't really see our work with objective eyes, we're too close to it."
   ]
  },
  {
   "cell_type": "markdown",
   "metadata": {},
   "source": [
    "#### Project\n",
    "\n",
    "<table><tr>\n",
    "<td> <img src=\"images_design/design_project_6.jpg\" style=\"height: 500px;\"/> </td>\n",
    "</tr></table>"
   ]
  },
  {
   "cell_type": "markdown",
   "metadata": {},
   "source": [
    "## C03 - Successful presentation\n",
    "\n",
    "### W01 - Public speaking\n",
    "\n",
    "#### Ten best practices for successful public speaking\n",
    "\n",
    "1. The Keith Code Rule: Fear inhibits execution. By controlling fear, we are able to execute on multiple levels.\n",
    "2. Successful presentation is storytelling.\n",
    "3. Stories have a beginning, middle, and ending and often have a single main meaning or moral.\n",
    "4. Stories are always, in part, about the storyteller or people want to see people.\n",
    "5. Stories are told; indeed, great stories are performed.\n",
    "6. The basic formula is a simple three-by-three grid: Introduction, Content, and conclusion, each of which have three parts:\n",
    "    a. The introduction has three elements: salutation, review, and the one compelling point.\n",
    "    b. The content has three parts: topic, data, and analysis.\n",
    "    c. The conclusion has three parts: summary, discussion, and thank you.\n",
    "7. The secret ingredient in the formula is creativity. But creativity is not magic. Creativity is simply pushing the formula to just the point where it is about to break.\n",
    "8. Your talk only has one point.\n",
    "9. A passionate identity is created through diligent rehearsal.\n",
    "10. Great speakers create their brand and the field of play as one.\n"
   ]
  },
  {
   "cell_type": "markdown",
   "metadata": {},
   "source": [
    "#### Understanding fear\n",
    "\n",
    "Public speaking is anxiety producing.\n",
    "Everyone feels some anxiety within them.\n",
    "In my mind, the fear of public speaking is both rational, who wants to stand up and be judged? And it's also irrational because in the end, it's just words, it's just standing up and saying what you have to say.\n",
    "\n",
    "This is a course on how to manage fear. There are three things. When we're in an andrenalized situation, when our fight or flight reactions kick in, our body and our mind do automatic things. We stop making choices and start taking actions. There's nothing to fear but fear itself, and yet fear is a very real thing."
   ]
  },
  {
   "cell_type": "markdown",
   "metadata": {},
   "source": [
    "#### Survival reactions\n",
    "\n",
    "There are three broad categories for survival (automatic) reactions.\n",
    "\n",
    "The first is intellectual, the second is verbal, and the third is physical. Intellectual survival reactions, it's when your mind draws a blank. You're under pressure. You're thinking about things, but you're not thinking of the name you need or the idea you're trying to grasp. They work against you horribly.\n",
    "\n",
    "The second category or verbal survival reactions. A string of words, anything that you come up with that you're trying to buy yourself time to think of your next idea. Really they just get in the way and instead of buying you time to think of something smart to say they make you sound inarticulate, stupid.\n",
    "\n",
    "The last category is the worst, physical survival reactions. Things your body does you just, why my body doing this, sweating uncontrollably, that's horrible. The opposite, dry mouth, where there's no water at all, or using your hands like this a lot as if you're trying to swim through the talk, you can't stop it. \n",
    "\n",
    "So my point in recognizing this long list of negative attributes is not to say that we should put them in a box and say, you know what? We all do them. We all struggle with this. No one is perfect. Survival reactions are not your fault. They don't belong to you. So recognize them for what they are. Automatic reactions, box them up and put them away. We're going to replace them with a rule-governed formula for success.\n",
    "\n",
    "First best practice. Fear inhibits execution. By controlling fear, we are able to execute on multiple levels.\n",
    "\n",
    "Think about that. What I'm suggesting is these survival reactions, they get in our way and we begin to concentrate on them instead of what's before us. We concentrate on our shaking hands so we don't think about the content. We concentrate on whether we're sweating or our mouth dry and so we don't pay attention to what our audience is telling us, to their physical cues.\n",
    "\n",
    "But once we control fear, once we put fear away, our mind suddenly expands. We can concentrate on the whole room. We can deal with the audience on a level that they don't even realize we're dealing with them.\n",
    "\n",
    "Truly successful presentation deals with the audience on a subconscious level. It creates a mood and a tone that the audience doesn't even realize is happening. That's when you're really successful."
   ]
  },
  {
   "cell_type": "markdown",
   "metadata": {},
   "source": [
    "#### The paradox of public speaking\n",
    "\n",
    "Our fears teach us a complex lesson. On the one hand they're entirely imaginary. What do we have to worry about? We're just going to stand up and say what we have to say. On the other hand, though, they're real. They cause problems. They make us sweat and stutter and say and like. They pressurize the situation, they throw our script into chaos. We can control fear. We can replace it with a rule governed system. We can learn that system so it's second nature so that when we feel ourselves begin to fail ourselves we reach back to that backbone. But in order to bring it out into the world to release it, you have to rehearse it. You have to refine it. You have to shape it into who it is. You have to articulate it through the words you want to use."
   ]
  },
  {
   "cell_type": "markdown",
   "metadata": {},
   "source": [
    "#### Storytelling\n",
    "\n",
    "We may need to convince people to invest in our business opportunity, but the real facts and figures can be delivered through email on a spreadsheet. You're there as a human being to tell a story.\n",
    "\n",
    "Best practices number two - Successful presentation is storytelling.\n",
    "\n",
    "Best practices three - Stories have beginnings, middles, and endings, and often present a single main meaning.\n",
    "\n",
    "Best practices four - Stories are always, in part, about the storyteller, or people want to see people. That's true, it's true in the sense that when you deliver content, you're on stage, you're part of the content, and people want to see people. \n",
    "Best practices five - Stories are told, and great stories are performed. This is important, because it suggests that you're not just part of the story. You've gotta deliver that story. You've got to engage with it so that you make the story."
   ]
  },
  {
   "cell_type": "markdown",
   "metadata": {},
   "source": [
    "#### Storytellers\n",
    "\n",
    "Best practices Number 3 - Stories have a Beginning, Middle, and Ending and often a main or central meaning.\n",
    "\n",
    "People can only take in so much isolated information. That is, they can only concentrate on so many details. They need you to package those details. Pull them together in a shape that makes sense, that begins, that has a middle portion, and then moves to an ending. So what this means is that you've got to put away your slide decks and your long speeches, and you've got to put away your spreadsheets, and you've gotta distill things down, because people can't remember it.\n",
    "\n",
    "You've gotta distill it down to a single main theme. That all these details add up to and reinforce but the detail themselves are not the critical part. The shape of the story and the main theme that the audience can perceive is what's important.\n",
    "\n",
    "Best practices 4 - Stories are in part, about their storytellers or people want to see people. You may be afraid, you may not want to stand up on stage, but people want to see you succeed. They want to trust you as their leader. They want to see you, not your content. You need to command your content, not let your content command you."
   ]
  },
  {
   "cell_type": "markdown",
   "metadata": {},
   "source": [
    "#### Performance\n",
    "\n",
    "Successful presentations are public stories, they're rehearsed, they're thought through, they're revised. They involve not just our words, but our bodies. They involve our awareness of our audience and our context and our purpose. So when we think of a successful presentation, we need to think of it as more than just reciting a script or delivering some content."
   ]
  },
  {
   "cell_type": "markdown",
   "metadata": {},
   "source": [
    "### W02 - A formula for successful presentation\n",
    "\n",
    "#### The basic formula\n",
    "\n",
    "The formula is simple, because it's a very basic structure. It's built on threes, Beginning, Middle and End. Three subpoints under each of those, and maybe three subpoints under each of those. And I think in threes and I built this formula out of threes, because I can only remember three things at a time. I get worried if there are four, or if sometimes there's four, and sometimes there's six. I get lost in my own mind. So the formula keeps things simple, but it's not easy. It allows you clarity. It allows you not to be afraid, and allows you to go forward with the next point. The structure works in terms of a three by three grid. And in the structure, the Beginning is the Introduction. The Middle is the Content, and the Ending is the Conclusion, and each part of those three pieces has three pieces within it.\n",
    "\n",
    "<table><tr>\n",
    "<td> <img src=\"images_design/formula_1.JPG\" style=\"height: 300px;\"/> </td>\n",
    "</tr></table>\n",
    "\n",
    "So the introduction has the Salutation, the Review of Structure and the one compelling point. The Content which is modular, you could have more modules or fewer has a Topic, it has Data and it has Analysis. And finally, the conclusion has a summation, it has a discussion, and in the end, it has a thank you section.\n",
    "\n",
    "It's something that allows you to write, to memorize and to speak. It's a structure, so that the page is never blank."
   ]
  },
  {
   "cell_type": "markdown",
   "metadata": {},
   "source": [
    "<table><tr>\n",
    "<td> <img src=\"images_design/formula_2.jpg\" style=\"height: 750px;\"/> </td>\n",
    "</tr></table>"
   ]
  },
  {
   "cell_type": "markdown",
   "metadata": {},
   "source": [
    "#### The secret ingredient: creativity\n",
    "\n",
    "Raymond Chandler's stories were collected in a book called Trouble is My Business. And this book has about five stories, they're really readable, and it has an introduction that he wrote about looking back and thinking about how he was learning his craft. There are two different things. The first thing he says is he would wish he was better, everybody wants to be better. A point of self judgement. Second, he says to exceed this limits of a formula without destroying it is the dream of every magazine writer who is not a hopeless hack.\n",
    "<table><tr>\n",
    "<td> <img src=\"images_design/creativity_1.JPG\" style=\"height: 300px;\"/> </td>\n",
    "<td> <img src=\"images_design/creativity_2.JPG\" style=\"height: 300px;\"/> </td>\n",
    "</tr></table>"
   ]
  },
  {
   "cell_type": "markdown",
   "metadata": {},
   "source": [
    "#### What is creativity?\n",
    "\n",
    "The secret ingredient is creativity. This idea of just wild creativity for creativity's sake, this actually can be very non-productive. You have to have a basis and some discipline and process first. What I need to do is start with list making and understanding the problem at hand and starting to work within a process. It simply shows up. \n",
    "\n",
    "How do you know when you should self-censor yourself because you're not being creative, you're being vulgar, and how do you know when you're really being creative? Time and distance. And a second pair of eyes, and learning to be a critical viewer."
   ]
  },
  {
   "cell_type": "markdown",
   "metadata": {},
   "source": [
    "#### The introduction\n",
    "\n",
    "The introduction has three points, the salutation, the review of the structure, and the one compelling point.\n",
    "\n",
    "The introduction is important because it's the very beginning. The very beginning of your talk is where you're most nervous, it's that moment when your adrenaline is kicking in and you question yourself whether you can go on and give a successful presentation. It's at that moment that you need a strong structure to guide you through. You need to have the structure in your mind and you need to gain purchase on the entire room. So if you're nervous, you need to own the room. You need to establish yourself as the story teller, the trusted leader who's going to lead people through a story. And that means you also have to lay out your story, your review of the structure and the story's moral, its meaning, the one compelling point. It's very important that you learn your introduction even if you don't have a lot of time."
   ]
  },
  {
   "cell_type": "markdown",
   "metadata": {},
   "source": [
    "#### The introduction: The salutation\n",
    "\n",
    "The salutation has three parts. The welcome, the chance for you to introduced yourself, and the acknowledgements. A salutation is so important because it sets the tone for your entire presentation. It's the place where you meet your audience and they meet you. Even if you're job is simply to stand up and turn on a video. Do not forfeit this opportunity. Do not give up the chance to build community from the very start.\n",
    "\n",
    "So let's break down these three roles, welcome, introduction, acknowledgment. The welcome is literally the most formulaic part of the whole formula. It is simply where you walk on stage, and you welcome the audience to your presentation. You give the title, and then you thank them. You thank them for coming. Set out the tone then introduce yourself. This is very important you have to tell them why you are speaking to them in the context that you are. There are many context, and there's many good reasons to speak for them. It's not a very long explanation. Just tell them who you are. Then, acknowledge them. Memorize your lectures. But, in this one instance. I'm going to suggest that you be very careful with your words and perhaps draw a piece of paper and read. Why? Because when you acknowledge people you need to get their names and their titles correctly. You need to accurately acknowledge, this is very important and if you passed over the acknowledgements you may later find that someone's feelings were hurt or that they're somewhat upset with you. It establishes you as a leader among of group of people and those people are various.\n",
    "\n",
    "I would suggest that that tone be warm and generous.Smile. There's a trick to generosity. Generosity appears, it appears to be that you are giving something away but really they are giving everything away. By being generous you actually lose nothing. Generosity appears to weaken your authority but it actually allows you to seize authority, to become the leader, to become the person who can give acknowledgement or deny acknowledgement and that's a very powerful position. So, by being generous, by being warm, you can establish yourself. You can establish the trust and sincerity of the community. And from trust and sincerity, come your authority to speak."
   ]
  },
  {
   "cell_type": "markdown",
   "metadata": {},
   "source": [
    "#### The introduction: The review of the structure\n",
    "\n",
    "The second part of the introduction is the review of the structure. If there is not a review, my mind begins to wander. I begin to come up with my own ideas and make my own connections. This will make your listeners see where we're going. They'll feel confident and safe. They'll feel secure. They'll feel that you're the leader, leading them along a path."
   ]
  },
  {
   "cell_type": "markdown",
   "metadata": {},
   "source": [
    "#### The introduction: The one compelling point\n",
    "\n",
    "Your talk has one compelling point.\n",
    "\n",
    "<table><tr>\n",
    "<td> <img src=\"images_design/intro_1.JPG\" style=\"width: 300px;\"/> </td>\n",
    "</tr></table>\n",
    "\n",
    "The reason your talk has only one compelling point, is because people can only take in so much information in oral delivery. Again, you could give your listeners, your audience, a laminate card. You could write them a letter, you could present them with a spreadsheet for them to study. The point is when you stand up to talk you've got to establish the common denominator that dominates all of those separate points. You have to funnel them down to one compelling point and you have to present that point at the beginning of your talk. And the reason this is, you have to focus your listeners at the end of your introduction and what you want them to walk away with. If you don't, they'll walk away with whatever they take and whatever they remember and you've lost control of your presentation. Figure out in your mind which one is the important one.\n",
    "\n",
    "If you sit and think about it, you add up all those hundreds of points an you condense them down to one compelling point and you get up and in the first four minutes of your talk you deliver that one compelling point to your audience and they get it, then you are done. The rest is downhill. For all you care, the talk is over.\n",
    "\n",
    "The formula for the introduction is really a three by three grid. It starts with the salutation which has the welcome, the place where you introduce yourself and the acknowledgements. It moves on to the review of the structure which simply covers the beginning, the middle, and the end. And then it hits the one compelling point Which in itself has the setup for the one compelling point then it says the point and then it tells them why that point is important."
   ]
  },
  {
   "cell_type": "markdown",
   "metadata": {},
   "source": [
    "#### The Modular Content Unit\n",
    "\n",
    "While the introduction is singular, the modular content unit can be repeated, mixed and matched throughout your talk. The only rule is the modular content units have to plug back in to the one compelling point.\n",
    "Each modular content unit has three parts. The topic, the data itself and then the analysis. And those three parts plug in together to be a full unit. That full unit can be moved around in your structure. You can eliminate it if you have to, or you can replicate it if you have to present more data. The one point is, each unit has to make sense in terms of your one compelling point. They can't all be level. The one compelling point is what you're trying to communicate through all these modular content units.\n",
    "\n",
    "The modular content unit becomes a unit greater than the sum of its parts defined by a keyword, a fourth term that reaches for a bigger conceptual idea."
   ]
  },
  {
   "cell_type": "markdown",
   "metadata": {},
   "source": [
    "#### Pushing Each Unit (Thinking in Circles)\n",
    "\n",
    "The modular content unit needs to have an almost circular nature. That is the data is just raw. It doesn't really present itself. You need to present that data. But in presenting it, you need to explain to your audience where you're going. So in that way, your data has your analysis but your analysis needs to be forecast by your topic itself. And your topic needs to reach back around to your data, so that it's a circle together. If your topic only introduces your data, your audience will get lost. They won't get the full picture. Instead, your topic needs to introduce your data, but it needs to forecast where you're going with your analysis.\n",
    "Create a fourth term called the keyword. The keyword becomes the dominant concept that pulls together the whole content unit."
   ]
  },
  {
   "cell_type": "markdown",
   "metadata": {},
   "source": [
    "#### Building transitions\n",
    "\n",
    "The fourth term that allows you to define the whole idea is the keyword. And once you've defined that whole idea you can control it in your mind. You can juggle it as you speak. You can move concepts around, you can eliminate them when the audience appears to lag. You can pick up, and move more quickly through them all because you've memorized those keywords. The reasons the keywords are important is to identify the concepts, and the reason the concepts are important because they pin down the content.\n",
    "\n",
    "The trick of giving a good talk is smoothness, nobody ever knows when you're shifting from modular content unit to modular content unit.\n",
    "\n",
    "Conclude each unit strongly so you can transition to the next smoothly. You're going to conclude each unit by emphasizing that keyword, because the more you push that keyword, the more you launch yourself into the next modular content unit. The stronger you shift, the stronger and smoother your transition."
   ]
  },
  {
   "cell_type": "markdown",
   "metadata": {},
   "source": [
    "#### Conclusion\n",
    "\n",
    "If you stress the one compelling point in the beginning of the talk, the conclusion doesn't carry quite as much weight as necessary. The reason is that if you get your audience to buy in to the one compelling point, you inform them what it is and you get them to subscribe to it, then they can begin to fold all your additional modular content units in. And they can think, that makes sense because I know where we're going. And then if you run out of time or if you get interrupted and you don't get all your content in and maybe you don't even have time for the conclusion, it's all right because the whole talk is a circle.  But nevertheless all talks conclude, and if you've done things right and weighed your timeout, counted things out, so everything makes sense then you'll get to a conclusion. And your conclusion should have, and you know this, three points. It should have a summary, a place where you say in sum, I've covered and then you out the things you've covered. And then, after that, you should have a discussion. And the discussion is important because what would be ideal is that you give your audience something to think about, something so if there's a Q&A session, a listener could ask the question, pursue that question. And if you were smart, you'd seed into the discussion the questions you want to pursue. But maybe there's not a Q&A period. Maybe you'd just like to have your audience think about something. Lastly, you have to thank your audience. They've suffered through your talk and you need to thank them for doing so. That closes the loop and closes out the community.\n",
    "\n",
    "If there's any trick to a conclusion, it's sincerity.\n",
    "\n",
    "This may sound like a bit of a lie but if you can sound really sincere when you pose those discussion questions then you can really win your audience over. Because all of the sudden they feel like they've been a part of the central issues from the start."
   ]
  },
  {
   "cell_type": "markdown",
   "metadata": {},
   "source": [
    "#### The entire talk is a circle\n",
    "\n",
    "It's not a story of surprise, it's a story of a journey that unfolds and that we know where we going at the end. So the first thing about the circular nature is that the beginning predicts the very ending and the ending is anticipated by the beginning.\n",
    "\n",
    "The trick of the modular content units is that they are endlessly expandable. But you might also think of those modular content units, like train cars in a long freight train. Each coupled around a keyword strongly, that keyword allows us to carry over, pulling the next one along. You emphasize the keyword here, and then you link it to the next, and it pulls us along.\n",
    "\n",
    "In that way, the talk has a kind of flexibility. Because train cars or gears can be skipped and you can make other attachments through keywords, or they can be expanded."
   ]
  },
  {
   "cell_type": "markdown",
   "metadata": {},
   "source": [
    "### W03 - Practicing yourself\n",
    "\n",
    "#### Dynamic vs static (getting into your brand)\n",
    "\n",
    "The Rolling Stones are, in fact, crafting their performance concert after concert, so that Oakland, New York, Maryland and all the states in between are the same, pretty much the same show. The Rolling Stones appear to be one thing. Spontaneous, free form, breaking any formula and any law you can give them. But in fact they're very disciplined, they're rehearsed. Each one of them is geared towards creating a brand identity. And that brand identity is interesting because the brand identity, it's something that they create through rehearsal, but it's also something that they create with their audience in front of them. It's something they create on their albums, but it's also something that they're trying to create while you're listening at home.\n",
    "\n",
    "Best practice 9 - A passionate identity is created through diligent rehearsal.\n",
    "\n",
    "So module three is all about rehearsal, it's all about thinking, how you take that formula, and you rehearse it, and internalize it so it is part of yourself. We're going to go through, literally using that circular formula as a way of rehearsing and counter rehearsing, so you can memorize not so much your lines but your keywords. So you can be dynamic, not static.\n",
    "\n",
    "There is nothing worse than a static presentation. The problem with the static presentation is that it forecloses on your individual personality. It forecloses on what's inside of you and it replaces that with simply the words on the page.\n",
    "\n",
    "In a way, if you think about it, the static speaker, the speaker who just stands there and diligently reads off lines in a PowerPoint, knows about he problem of fear. That person knows that survival reactions, those intellectual, verbal or physical traits will ultimately disable him or her. So the person sticks to the script. But in sticking to the script he or she forecloses on his or her personality and bludgeons the audience into boredom. We don't want that at all. Instead, we want to figure out how to internalize the script so that we can believe in it, how to put passion, belief is passion, passion in a bottle by memorizing that script. And we also want to rehearse our words and our body. Because words and body together are the most powerful kind of language we have. If we can do those things, we can create a brand that we can communicate powerfully to our audience."
   ]
  },
  {
   "cell_type": "markdown",
   "metadata": {},
   "source": [
    "#### You are your own harshest critic\n",
    "\n",
    "So successful presentation comes down to the hard work of practicing a script. In this video and the next, I'm going to take you through two techniques I have towards practicing. But what is a script? Well, a script can be anything. A script can be a 30 page document that's written out over months, revised by multiple people. A script can be a slide deck that people have presented, and that have all the lines written in. A script can be a napkin that you've written out moments before you have to go on stage. A script can is any piece of writing that allows you to reflect on what you want to say.\n",
    "\n",
    "But the problem with the script, is that it suggests everything is done. It suggests everything is boxed up and all you need to do is recapitulate that script in front of people. There's nothing worse than a statically read script, because scripts are words on paper. They're not words coming out of your mouth. So you have to take those words and transform them into a way that's comfortable for you to speak.\n",
    "\n",
    "Now that's difficult and I'm going to suggest two modes of getting those words from the paper, from the slide screen, into your mouth and back out. The first I'm calling rehearsal, and the second I'm calling reverse outlining. Rehearsal and reverse outlining in my mind they go together. And in fact, you can be at a place where you have plenty of time to rehearse, plenty of time to reverse outline, and then you can dynamically understand your script. But you can also be in a place where all you have time to do is outline and reverse outline, and that can help you as well. The point is you need to own the script. The script is what guides you, and you need to own it.\n",
    "\n",
    "So the best way to rehearse, is to read the document out loud over and over in front of a mirror.\n",
    "You are your own harshest critic. And by listening to the words coming out of your mouth, you will recognize if the sentences are too long, if the words don't sound like you, or if the words themselves are abstract and complicated and they break down in your mouth and you can't say them. You will recognise those words don't work. And you'll have to edit your script. You will have to figure out where to stop and think, where to breathe, when to breathe in, when to breathe out. When I first started rehearsing, I would strip naked and stand in front of the mirror and read my script to myself. Because that was my bare self and my eyes would judge and my ears will hear together what my body and what my mouth were doing. And to me, that was the moment where I really learned to deliver. So I encourage you, when you rehearse, don't just stand in front of a group of friends. They'll just tell you some nice corrections. Go to a quiet place, stand in front of a mirror, and rehearse.\n",
    "\n",
    "However, I want to acknowledge at the close of this video, that many times, you will be in a position where you have no choice but to follow exactly the words on the script, and if you deviate, you will be in trouble. In those cases, I still encourage you to rehearse. You don't have the liberty to change the script, but you do have the ability to own it, and that's what I want you to do. In all cases, by rehearsing a script you own it, and you internalize it, and the words become yours. And it is critical, if your audience is going to believe you, that you believe the words you are speaking."
   ]
  },
  {
   "cell_type": "markdown",
   "metadata": {},
   "source": [
    "#### The reverse outline\n",
    "\n",
    "Reverse outlining is a little more of an improvisational technique than simply rehearsing your script. When you have a script that you've rehearsed and you feel like the script is solid, you try and recreate the outline on a piece of paper. Just go over that outline, and try and recreate it from memory. The reason I call this reverse outlining is because you have to recreate the outline after you've rehearsed the script. Even if you have to read the script over, recreating the outline on a separate piece of paper will help you tremendously. Because it will mean that you're really familiar with the beats and the important points of the script. It will mean that you've internalized it enough that you don't really have to worry about getting lost anymore. "
   ]
  },
  {
   "cell_type": "markdown",
   "metadata": {},
   "source": [
    "#### Rehearsing the introduction\n",
    "\n",
    "Practice your introduction. If you practice nothing else, practice that introduction. Go over it and over it, because the introduction is where you meet your people. And if it goes well, the rest is downhill.\n",
    "\n",
    "Take the time to learn who they are.\n",
    "\n",
    "If it's a small room, speak to them. Talk to them when you begin. When you introduce yourself, ask them to introduce themselves and focus on each of them. Learn their names. It may seem impossible at first, but you'll get the rhythm of it and you'll learn how to remember names quickly.\n",
    "\n",
    "If it's a large room, maybe get their a little early. Walk down the aisle, ask people how was their drive? What do they think? Why are they here? How's the weather where they live? Just get people talking. Building that communication in the beginning will pay you dividends in the end.\n",
    "\n",
    "A second major technique is to relax yourself physically and verbally. For me, smiling, sticking my chest forward, calms my nervousness. For years, I literally wrote at the top of my talk, smile.\n",
    "\n",
    "Go slowly at the beginning of your talk. When you begin, you will get an adrenal rush, so you'll be going a mile a minute. Prepare for this by consciously rehearsing your introduction very slowly. Enunciating every word.\n",
    "\n",
    "The rhythm of your entire talk will vary. It cannot remain the same, because either it will be a monotone or it will be so high pitched that your audience will not know what's going on, but the ending of your introduction gives you a moment to punctuate the whole talk.\n",
    "\n",
    "It gives you a moment to define that one compelling point and tell everyone why it's important, and that ending should end upbeat and with passion.\n",
    "\n",
    "But the key takeaway point here is that if you develop a warm relationship, you will be perceived as authentic and with authenticity comes trust and from trust comes your authority to lead the group. You will build yourself, as a leader in the introduction to your talk. So rehearse that introduction, the rest just follows in kind."
   ]
  },
  {
   "cell_type": "markdown",
   "metadata": {},
   "source": [
    "#### Passion in a bottle\n",
    "\n",
    "You want to communicate your main compelling point with passion. And because of this, I don't really favors scripts, or slide decks, or memorized talks. I don't really favor aids of any kind. Because, I think they get in the way of communicating passion. If you memorize, all you have left is the script that you're stuck with. If you internalize the concepts, you become more dynamic, and you can communicate in the moment.\n",
    "\n",
    "Passion comes in all different forms. Some people have fiery passion, some people have intense passion, others have a cold, thoughtful passion. Some people's passion is quiet, but all of us have passion inside of us. And it's communicating that passion, that is what convinces others. It's not so much the words you speak, but the belief that you communicate around those words."
   ]
  },
  {
   "cell_type": "markdown",
   "metadata": {},
   "source": [
    "#### Verbal language\n",
    "\n",
    "Many people don't like their voice at all. Accept yourself. Just accept who you are and accept your capabilities. Get over the fact that we all feel that we're insufficient, and realized that truly you are sufficient to the task before you. And the way you're going to realize that is simply through rehearsal. We're all faced with the same verbal survival reactions, the same desire to say like or actually or kind of. The same desire to stop the sentence and think about it as we're speaking of it. Put that aside. Instead, go over the words that you're going to speak in public. Think about them as you're saying them. Repeat your sentences, and work through them so that you can say them slowly, or pick up the paces speaking more quickly. Think about enunciation. Think about getting through your speech, but with care, so that each word comes out correctly."
   ]
  },
  {
   "cell_type": "markdown",
   "metadata": {},
   "source": [
    "#### Marking your script\n",
    "\n",
    "There are some basic techniques to marking a script.\n",
    "\n",
    "Bold letters that you skip over as you read, your eye will literally catch the letter, and you'll say it. Bold words that you are having trouble saying or that you want to emphasize. Again, if you put them in bold or underscore them, your eye will literally catch them, and you'll say them correctly.\n",
    "\n",
    "Mark rising inflection with a diagonal line or arrow upwards. Mark lowering inflection with a diagonal line or arrow downwards. Write in pauses.\n",
    "\n",
    "We can take three things. One, literally marking the script with inflection points and developing the rhythm will help us get through. Two, as we mark the script, we begin to learn how we want to speak. We get over the problems of our own voice, and we begin to really articulate the lines inside of us. And the third point, which is it's not just a one time learning event. It's learning over a lifetime of reading. So you may begin by marking a script very intensely, or you may be faced with a tough script and really need to go over it. But the very act of marking a script is a process of rehearsal that teaches you how to control your own language. It teaches you how to work with inflection points and rhythm by concentrating you on the words of your script.\n",
    "\n",
    "Eventually, you won't need to mark a script at all."
   ]
  },
  {
   "cell_type": "markdown",
   "metadata": {},
   "source": [
    "#### Recognizing your body\n",
    "\n",
    "Your body is a powerful instrument of communication. There really is no mind-body split. When you deliver a successful presentation, your body, as well as your mind is fully engaged. And survival reactions, if you'll recall are not just intellectual, and they're not just verbal, they're also very physical. So we need to recognize our body. And in recognizing our bodies we can control those survival reactions, we can replace unintended gestures with intentional gestures.\n",
    "\n",
    "Recognizing your body is the first step in defeating survival reactions. Rehearse so you replace survival reactions with intentional gestures. Wear appropriate but comfortable clothing. You need a firm stance as a foundation to make your point, so experiment with stances. Don't just rock back and forth. Figure out how you like to stand and intentionally stand that way. Feel large, even if you are small.\n",
    "\n",
    "Overall, recognizing your body will help you in many ways. Practice your movement in concert with your script. So if you're counting things off in your script, count them off with your fingers. Say first, and hold up one. Second, and hold up two. This will give your points emphasis. If you are punctuating a point do so with your hands as well.\n",
    "\n",
    "Your body is part of what makes you a successful communicator. It doesn't need to hold you back. What you need to do is think about how to deploy your attributes, think about how to present yourself successfully, the rest will follow."
   ]
  },
  {
   "cell_type": "markdown",
   "metadata": {},
   "source": [
    "#### Using your body\n",
    "\n",
    "The John Travolta stance is one foot a little ahead of the other, hand out front, other hand in pocket.\n",
    "You may not find the John Travolta stance is useful at all, but you can find an stance that feels comfortable so that you don't show survival reactions. Chose the stance that allows you to recognize  your body "
   ]
  },
  {
   "cell_type": "markdown",
   "metadata": {},
   "source": [
    "### W03 - Anticipating the field of play\n",
    "\n",
    "#### Anticipating the room\n",
    "\n",
    "Throughout this MOOC, we've tried to tell a story of the self. In the first module, it was the story of the self in fear fragmented by fear. Pursued by a ghost that was at once, over our own making but also external and real, causing us to break apart in chaos. In the second module, I suggested a container for the self. A formula that could hold us together in structure but that in a way was a prison. We had to exceed it, through one compelling point that might express our own vision, our own brilliance. And then, in the third, I introduced new paradox, a paradox that by rehearsing diligently we could arrive at a point of spontaneity.\n",
    "\n",
    "In this last module, we move towards field of play. Because as we actually walk into the room that we're going to present in, we're faced with uncontrollable variables. People may come in in the middle of our talk and walk out on our presentation, at the best part. People may begin side conversations, cellphones or go off and just keep going on and on. And all these things are out of our control. So as diligently as we might rehearse, we're faced with the question, how can we control these variables. And in fact, we can control these variables. Because we create the community that we live in. We create that community through our own sense of performance. We create it through our own hyper aware sense of everyone in the room. If we've created our community strongly, we've constructed it around our presentation and we don't need to worry about those interruptions. We can keep things on focus, we can keep ourselves centered and therefore, as we're the leaders of our community, our community centered."
   ]
  },
  {
   "cell_type": "markdown",
   "metadata": {},
   "source": [
    "#### A Chaucerian interlude\n",
    "\n",
    "Best practice 10 - Great speakers construct their brand and the field of play as one.\n",
    "\n",
    "A great speaker attends to his or her audience, listens to their cues, and delivers the speech, the presentation, right to them. By doing so, the great speaker appears, not as an anonymous figure, but as a personal figure. The great speaker crafts his or her public performance as a private performance delivered to each individual. In that he or she creates a community. And though that community may be violated by interruption, it becomes strong enough to withstand that and carry through to the end."
   ]
  },
  {
   "cell_type": "markdown",
   "metadata": {},
   "source": [
    "#### Attending to your audience\n",
    "\n",
    "We will cover three things. One is, using the introduction to literally get to know your audience. The second is dividing the space up in your mind, so you feel that you can move amongst them even if you can't leave the stage. The third is how you use ancillary materials in your presentation. But my one compelling point here, the thing I want you to take home is that you can control the room. Even though the room is filled with variables, you can control that room.\n",
    "\n",
    "If the room is larger than a small group, a lecture hall for instance or a conference presentation, you might arrive early and talk to people. Or you might simply study their faces as you walk out on stage. Remember, one of the first survival reaction is to target fixate on one person, to make the whole experience about them, or alternately to see the whole room as just a mass, an unapproachable group. So to that end I want you to divide the room in your mind's eye. Divide it into quadrants, left, right, center, forward, middle, back. By dividing it into these quadrants, you can begin to think of groups of people, and you can move from them in a studied and disciplined fashion. If you're in a conference room, a smaller room, or sitting in a circular table, think of it as a clock. That will allow you to move from number the number, even if you can't remember people's names in a disciplined fashion.\n",
    "\n",
    "The point here is that you're building community, and your presentation materials also need to build community. They need to be part of that. So slide decks are very effective. Slide decks can be effective because they focus everyone's attention in one direction. And they can present images which you can't present verbally or physically through your body. But the problem with a slide deck is it's always behind you, or it's on an individual screen. A slide deck either focuses people to look at your back or to look away from you at the screen they're studying. This is a problem because it necessarily alienates them from you. It's a double problem if you have a slide deck with a lot of words and you have to really spend time with your back to the audience working those words. That alienates your community.\n",
    "\n",
    "Alternately handouts are great. Handouts, they act as a intermediary between you and your audience. If you handout a bunch of handouts, then it's like you're sharing a meal. You're all focused forward, looking down or looking together. Handouts create a sense of community. But the problem with handouts is they put all your information up front. And of course, some people will go forward ahead of your talk. That will be distracting to you, a little bit unnerving. And other people will go back. After you've left a point behind, they'll be studying number one. That will make you nervous because maybe there's something you misspelled or perhaps missed otherwise. Handouts and slide decks are both compromised, neither is perfect. You need to think about the stakes of using them so that you can use them in a smart and calculated fashion. The point, the point of all of this is that you need to listen to your audience. You need to imagine your audience ahead of time and think about how you want to present to them. And when you're in the room, you need to actually listen to them. If you can listen to your audience while you are talking, then you are truly a master presenter."
   ]
  },
  {
   "cell_type": "markdown",
   "metadata": {},
   "source": [
    "#### What is a question?\n",
    "\n",
    "The scariest part of any presentation is the question and answer period at the end. Honestly, no one knows everything. So don't go into the question and answer period as a game of true or false. Instead think of it as a chance to continue the discussion of the presentation with the audience. Think of it as a chance to build community.\n",
    "\n",
    "The only way you can get a question truly wrong is not to listen to it. That is, one of our survival reactions is to shut down, not to listen, and to think about how to escape the situation. You've got to fight that by focusing on the speaker's question, so listen. Look for a key word that you can really nail down. If you can't understand the question or if you haven't been listening, ask the speaker to repeat the question. Be respectful. Now I've been through a lot of question and answer sessions. Some of them I've handled well, some less so. There are four techniques that really help.\n",
    "\n",
    "The first is ask the speaker's name. Asking the speaker's name will humanize the interaction, and will also allow you to pair the question with a person. So that later, you can refer to that person and come back to their question.\n",
    "Second, say the phrase, that's an interesting question. Or, fascinating, and smile broadly. By doing that, you'll put yourself forward, instead of being in a retreating position, and you'll ultimately flatter the person. Even if it's a hostile question, that will help.\n",
    "\n",
    "Third, since the question is a chance to respond and elaborate, don't be afraid to think. When you're in front of a group, feel free to think. This goes back to one of the first rules of the course. This is a course about storytelling, and people want to watch people. So, remember, you're on stage, and if you think through smartly a question, and you really look like you're concentrating, people will be fascinated.\n",
    "\n",
    "Lastly, pulling ideas together will be very effective. So if you can remember the key words of a number of questions and begin to synthesize them towards the end of the Q&A period, you'll be in charge of the room.\n",
    "\n",
    "Overall, the point of the question and answer period is not simply to answer questions right or wrong. It's to build a community that coalesces with your brand."
   ]
  },
  {
   "cell_type": "markdown",
   "metadata": {},
   "source": [
    "#### Being soft\n",
    "\n",
    "If a question is initially hostile, you might want to meet it by being very soft and understanding, and asking the person gently to articulate their line of reasoning. If a question is very complementary, you might seize it and move forward and further your point. But ultimately, you might think that softness can win the day very strongly. But if you try and meet everything with too much energy, if you don't figure out when you are going to be truly soft, and by that I mean, silent and just let people talk. If you always approach things that you need to put your ego first, and be hardened and aggressive at all times, then you may overwhelm things. So just think about go and ju (hard and soft), as you think about how you want to organize your community."
   ]
  },
  {
   "cell_type": "markdown",
   "metadata": {},
   "source": [
    "#### The paradox of the Public Self\n",
    "\n",
    "Our public selves are created by the unity of the stories we tell.\n",
    "\n",
    "I lay that against the private self, which I see as fragmentary, as always capable of new surprises, those surprises, in some sense, are amazing! We accomplish new things that we had never thought that we could. We disappoint ourselves in ways that we never thought we would.\n",
    "\n",
    "But the public self is driven by the engine of that private self. That private self has unfathomable energy to drive us forward. That in its sense of fragmentation and surprise, it continues to give us more new ways of considering the world. The public self harnesses that energy and tells it straight. Like a story, tells it as a unified and compelling point.\n",
    "\n",
    "But in that, there's a strangely circular loop because as you develop your public self, your private self changes. Your private self adopts elements of that public self. And the two become closer almost to the point of indistinguishable. But they're not.\n",
    "\n",
    "This is a driving paradox, a truth, of who we are. That our private selves, we separate from the public world but are nevertheless changed by the encounters with the public world."
   ]
  },
  {
   "cell_type": "markdown",
   "metadata": {},
   "source": [
    "## C04 - Effective Communication Capstone Project\n",
    "\n",
    "### W01 - Introduction to the Capstone\n"
   ]
  },
  {
   "cell_type": "code",
   "execution_count": null,
   "metadata": {},
   "outputs": [],
   "source": []
  }
 ],
 "metadata": {
  "kernelspec": {
   "display_name": "Python 3",
   "language": "python",
   "name": "python3"
  },
  "language_info": {
   "codemirror_mode": {
    "name": "ipython",
    "version": 3
   },
   "file_extension": ".py",
   "mimetype": "text/x-python",
   "name": "python",
   "nbconvert_exporter": "python",
   "pygments_lexer": "ipython3",
   "version": "3.7.1"
  }
 },
 "nbformat": 4,
 "nbformat_minor": 2
}
